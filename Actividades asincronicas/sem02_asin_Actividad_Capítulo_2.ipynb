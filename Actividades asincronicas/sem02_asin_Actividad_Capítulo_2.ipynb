{
  "cells": [
    {
      "cell_type": "markdown",
      "id": "5ad8356f",
      "metadata": {
        "id": "5ad8356f"
      },
      "source": [
        "# Actividades Capítulo 2.\n",
        "\n",
        "\n",
        "# Concepto básico de programación e inicio en Python\n",
        "\n",
        "## Resumen de actividades\n",
        "\n",
        "- **Unidad 10.** Tipos de datos lista y tupla Tipos de datos lista y tupla\n",
        "- **Unidad 11.** Tipos de datos de diccionario Tipos de datos de diccionario\n",
        "- **Unidad 12.** Tipos de datos de secuencia\n",
        "- **Unidad 13.** Listas 2D\n",
        "- **Unidad 14.** Método del diccionario-1\n",
        "- **Unidad 15.** Método del diccionario-2\n",
        "- **Unidad 16.** Establecer tipos de datos\n"
      ]
    },
    {
      "cell_type": "markdown",
      "id": "8c5aa9c8",
      "metadata": {
        "id": "8c5aa9c8"
      },
      "source": [
        "# Actividad: Creación de una Base de Datos en Python\n",
        "\n",
        "## Descripción\n",
        "\n",
        "A continuación debes crear una base de datos simple utilizando listas en Python. Una base de datos es una colección de datos organizados que se utilizan para almacenar y recuperar información. En este caso, simularemos una base de datos de estudiantes con información básica.\n",
        "\n",
        "## Instrucciones\n",
        "\n",
        "1. Crea un programa en Python que permita a los usuarios realizar las siguientes acciones:\n",
        "\n",
        "   a. Agregar un nuevo estudiante a la base de datos. Cada estudiante debe tener al menos un nombre, un número de identificación y una edad. Puedes utilizar una lista para almacenar estos datos.\n",
        "\n",
        "   b. Mostrar la lista de estudiantes en la base de datos.\n",
        "\n",
        "   c. Buscar un estudiante por su número de identificación y mostrar su información.\n",
        "\n",
        "   d. Actualizar la información de un estudiante existente en la base de datos.\n",
        "\n",
        "   e. Eliminar un estudiante de la base de datos.\n",
        "\n",
        "2. Utiliza listas de Python para almacenar la información de los estudiantes. Por ejemplo, puedes crear una lista de diccionarios, donde cada diccionario representa un estudiante con sus datos.\n",
        "\n",
        "3. Ofrece un menú interactivo que permita a los usuarios elegir las acciones que desean realizar en la base de datos.\n",
        "\n",
        "4. Implementa la lógica necesaria para cada acción, como agregar, buscar, actualizar o eliminar estudiantes.\n",
        "\n",
        "## Ejemplo de Base de Datos\n",
        "\n",
        "A continuación, se muestra un ejemplo de cómo podría verse una base de datos de estudiantes utilizando listas y diccionarios:\n",
        "\n",
        "```python\n",
        "base_de_datos = [\n",
        "    {\"nombre\": \"Juan\", \"id\": 1, \"edad\": 20},\n",
        "    {\"nombre\": \"María\", \"id\": 2, \"edad\": 22},\n",
        "    {\"nombre\": \"Carlos\", \"id\": 3, \"edad\": 21}\n",
        "]\n",
        "\n",
        "Desarrolle el código en la siguiente lista."
      ]
    },
    {
      "cell_type": "code",
      "execution_count": 1,
      "id": "90cd2e33",
      "metadata": {
        "colab": {
          "base_uri": "https://localhost:8080/"
        },
        "id": "90cd2e33",
        "outputId": "94528614-1111-44fc-c0cb-6d9316ab9b3f"
      },
      "outputs": [
        {
          "name": "stdout",
          "output_type": "stream",
          "text": [
            "Mostrando base de datos: [{'nombre': 'Juan', 'id': 1, 'edad': 20}, {'nombre': 'María', 'id': 2, 'edad': 22}, {'nombre': 'Carlos', 'id': 3, 'edad': 21}]\n",
            "Info del estudiante: {'nombre': 'María', 'id': 2, 'edad': 22}\n",
            "\n",
            "La base de datos actual es: [{'nombre': 'Juan', 'id': 1, 'edad': 20}, {'nombre': 'María', 'id': 2, 'edad': 22}, {'nombre': 'Carlos', 'id': 3, 'edad': 21}]\n"
          ]
        }
      ],
      "source": [
        "\n",
        "#Recuerde agregar comentarios donde se describa el funcionamiento de las diferentes secciones.\n",
        "\n",
        "'''\n",
        "\n",
        "1. lista de estudiantes con datos a guardar: nombre, nmero de identificacion, edad\n",
        "2. mostrar la lista\n",
        "3. buscar estudiante por su ID y mostrar la info\n",
        "4. actualizar info\n",
        "5. eliminar estudiant\n",
        "\n",
        "\n",
        "'''\n",
        "\n",
        "# Parte a\n",
        "\n",
        "base_de_datos = [\n",
        "    {\"nombre\": \"Juan\", \"id\": 1, \"edad\": 20},\n",
        "    {\"nombre\": \"María\", \"id\": 2, \"edad\": 22},\n",
        "    {\"nombre\": \"Carlos\", \"id\": 3, \"edad\": 21}\n",
        "]\n",
        "\n",
        "# Parte b\n",
        "\n",
        "print(f\"Mostrando base de datos: {base_de_datos}\")\n",
        "\n",
        "\n",
        "# parte c\n",
        "\n",
        "busqueda = input(\"Escriba el ID del estudiante: \")  # Solicita el ID en lugar del nombre\n",
        "busqueda = int(busqueda)  # Convierte la entrada a un numero entero\n",
        "\n",
        "validate = False  # Variable para guardar si no se ha encontrado el estudiante en la base de datos\n",
        "\n",
        "for estudiante in base_de_datos:\n",
        "    if estudiante[\"id\"] == busqueda:  # Compara por ID\n",
        "        print(\"Info del estudiante:\", estudiante)  # Muestra la info del estudiante\n",
        "        validate = True  # Establece validate como True cuando se encuentra la coincidencia\n",
        "        break  # Sale del bucle cuando se encuentra la coincidencia\n",
        "\n",
        "if not validate:\n",
        "    print(f\"Estudiante con ID {busqueda} no existe\") # si el ID no existe lo indica al usuario\n",
        "\n",
        "\n",
        "# Parte D\n",
        "\n",
        "actualizar = input(\"\\nDesea actualizar la informacion?, coloque 'y' para aceptar: \")  # pregunta si se desea actualizar\n",
        "\n",
        "if actualizar == \"y\":\n",
        "    for dato in base_de_datos[busqueda-1]:    # reemplaza cada dato de la opcion\n",
        "        print(dato,': ')\n",
        "        base_de_datos[busqueda-1][dato] = input()\n",
        "    print(f\"la informacion se ha actualizado a {base_de_datos[busqueda-1]}\") # imprime la actualizacion\n",
        "    print(f\"\\nLa nueva base de datos es: {base_de_datos}\")\n",
        "\n",
        "\n",
        "\n",
        "\n",
        "# parte E\n",
        "eliminar = input(\"\\nDesea eliminar el estudiante? coloque 'y' para aceptar: \") # se pregunta si se desea eliminar al estudiante\n",
        "\n",
        "if eliminar == 'y':\n",
        "     base_de_datos.pop(busqueda-1)   # se utiliza pop para remover la info del estudiante\n",
        "     print('Eliminado exitosamente')\n",
        "\n",
        "print(f\"\\nLa base de datos actual es: {base_de_datos}\") # se muestra la nueva base de datos"
      ]
    },
    {
      "cell_type": "markdown",
      "id": "a11871f3",
      "metadata": {
        "id": "a11871f3"
      },
      "source": [
        "# Actividad: Rebanado de listas.\n",
        "\n",
        "Revisa la unidad 10,sección 5.3 aparece un resumen de los comandos para tomar secciones de una lista, aplica los comandos en la siguiente lista:\n",
        "\n",
        "\n",
        "list_notas = [15, 21, 24, 40, 13, 14, 18, 17, 14.5]\n",
        "\n"
      ]
    },
    {
      "cell_type": "code",
      "execution_count": 2,
      "id": "1e7a5371",
      "metadata": {
        "colab": {
          "base_uri": "https://localhost:8080/"
        },
        "id": "1e7a5371",
        "outputId": "ffb6b9f1-65d8-482c-975c-a1f94bbfdece"
      },
      "outputs": [
        {
          "name": "stdout",
          "output_type": "stream",
          "text": [
            "[15, 21, 24, 40, 13, 14, 18, 17, 14.5]\n",
            "[15, 21, 24, 40, 13, 14, 18, 17, 14.5]\n",
            "[15, 21, 24, 40, 13, 14, 18, 17, 14.5]\n",
            "[15, 21, 24, 40, 13, 14, 18, 17, 14.5]\n",
            "[15, 21, 24, 40, 13, 14, 18, 17, 14.5]\n",
            "[15]\n",
            "[17, 14.5]\n",
            "[14.5, 17, 18, 14, 13, 40, 24, 21, 15]\n",
            "[21, 15]\n"
          ]
        }
      ],
      "source": [
        "# Espacio para desarrollar las pruebas, si tienes alguna duda o comentario adicional\n",
        "# lo puedes dejar planteado acá.\n",
        "\n",
        "list_notas = [15, 21, 24, 40, 13, 14, 18, 17, 14.5]\n",
        "list_notas[::2]\n",
        "\n",
        "\n",
        "list_notas = [15, 21, 24, 40, 13, 14, 18, 17, 14.5]\n",
        "print(list_notas)\n",
        "print(list_notas[0:9])\n",
        "print(list_notas[0:])\n",
        "print(list_notas[:9])\n",
        "print(list_notas[:])\n",
        "print(list_notas[0:2:9])\n",
        "print(list_notas[-2:])\n",
        "print(list_notas[::-1])\n",
        "print(list_notas[1::-1])"
      ]
    },
    {
      "cell_type": "markdown",
      "id": "a207d974",
      "metadata": {
        "id": "a207d974"
      },
      "source": [
        "\n",
        "# Actividad: Diferentes métodos usados en listas.\n",
        "\n",
        "De la unidad 10, sección 6.3 revise los métodos disponibles para usar sobre las listas.\n",
        "\n",
        "Aplique los métodos disponibles sobre la lista mostrada en la siguiente celda.\n",
        "\n",
        "Nota: usando el método **sort()** ordene de mayor a menor y viceversa (Si es necesario revise documentación adicional relacionada sobre este método)\n"
      ]
    },
    {
      "cell_type": "code",
      "execution_count": 3,
      "id": "b4ac1d5a",
      "metadata": {
        "id": "b4ac1d5a",
        "outputId": "45d41403-6820-4b2f-e990-4fd92a187a5c"
      },
      "outputs": [
        {
          "name": "stdout",
          "output_type": "stream",
          "text": [
            "2\n",
            "None\n",
            "2\n",
            "None\n",
            "None\n",
            "None\n",
            "15\n",
            "None\n",
            "None\n"
          ]
        }
      ],
      "source": [
        "# Aplique los métodos disponibles y agregue comentarios breves sobre su funcinamiento.\n",
        "\n",
        "list_notas = [15, 21, 24, 40, 13, 14, 18, 13, 17, 14.5]\n",
        "\n",
        "\n",
        "# Espacio para desarrollo del código y comentarios.\n",
        "\n",
        "print(list_notas.index(24))\n",
        "print(list_notas.append(24))\n",
        "print(list_notas.count(24))\n",
        "print(list_notas.extend([25, 26, 22]))\n",
        "print(list_notas.insert(0, 10))\n",
        "print(list_notas.remove(10))\n",
        "print(list_notas.pop(0))\n",
        "print(list_notas.sort())\n",
        "print(list_notas.reverse())\n",
        "\n",
        "\n",
        "\n",
        "\n",
        "\n",
        "\n",
        "\n",
        "\n",
        "\n",
        "\n",
        "\n",
        "\n"
      ]
    },
    {
      "cell_type": "markdown",
      "id": "26a6bb9e",
      "metadata": {
        "id": "26a6bb9e"
      },
      "source": [
        "# Actividad: Crear diccionarios y guardarlos como archivo JSON.\n",
        "\n",
        "De la unidad 11 sección 4.6 revise el ejemplo mostrado.\n",
        "\n",
        "Genera un diccionario, sobre la información que deseas guardar como base de datos, desarrollo el código necesario para generar el archivo JSON, y también el código para cargar la información del archivo JSON.\n"
      ]
    },
    {
      "cell_type": "code",
      "execution_count": 10,
      "id": "6670eace",
      "metadata": {
        "id": "6670eace"
      },
      "outputs": [],
      "source": [
        "# Espacio para desarrollar el código.\n",
        "import json\n",
        "\n",
        "base_de_datos = [\n",
        "    {\"nombre\": \"Juan\", \"id\": 1, \"edad\": 20},\n",
        "    {\"nombre\": \"María\", \"id\": 2, \"edad\": 22},\n",
        "    {\"nombre\": \"Carlos\", \"id\": 3, \"edad\": 21}\n",
        "]\n",
        "\n",
        "# Creacion del json_data como archivo\n",
        "\n",
        "with open('book.json','w') as f:\n",
        "  json.dump(base_de_datos, f, indent = '\\t')\n",
        "\n",
        "\n",
        "\n",
        "\n",
        "\n",
        "\n",
        "\n",
        "\n",
        "\n",
        "\n",
        "\n",
        "\n",
        "\n",
        "\n"
      ]
    },
    {
      "cell_type": "markdown",
      "id": "fbfb4985",
      "metadata": {
        "id": "fbfb4985"
      },
      "source": [
        "# Actividad: Creación y manejo de tuplas.\n",
        "\n",
        "## Instrucciones\n",
        "\n",
        "1. Escriba una diferencia entre las tuplas y las listas.\n",
        "2. Crear una tupla con varios elementos.\n",
        "3. Usar el operador in para verificar si la tuple contiene determinado elemento.\n"
      ]
    },
    {
      "cell_type": "code",
      "execution_count": 4,
      "id": "fc5b1a43",
      "metadata": {
        "colab": {
          "base_uri": "https://localhost:8080/"
        },
        "id": "fc5b1a43",
        "outputId": "ddb76b43-63ed-4bbd-ab42-0d647df644b1"
      },
      "outputs": [
        {
          "name": "stdout",
          "output_type": "stream",
          "text": [
            "Esta el numero 2 en tup?: True \n"
          ]
        }
      ],
      "source": [
        "# Espacio para desarrollar el código siguiendo las instrucciones.\n",
        "\n",
        "# 1. El contenido de las tuplas no se puede modificar,, mientras que el de las listas si\n",
        "\n",
        "# 2.\n",
        "tup = (1, 2, 3, 4, 5)\n",
        "\n",
        "# 3.\n",
        "num = int(input('Ingrese el número a verificar en la tupla: ')) # pregunta al usuario por un numero\n",
        "print(f'Esta el numero {num} en tup?: {num in tup} ')\n"
      ]
    },
    {
      "cell_type": "markdown",
      "id": "98938d2d",
      "metadata": {
        "id": "98938d2d"
      },
      "source": [
        "# Actividad: Revisión y manejo de listas bidimensionales.\n",
        "\n",
        "## Instrucciones\n",
        "\n",
        "1. Describa brevemente que entiende por lista bidimensional.\n",
        "2. Crear una lista bidimensional.\n",
        "3. Generar un doble loop para acceder de la lista bidimensional\n",
        "4. Sumar todo los elementos de esta lista bidimensional."
      ]
    },
    {
      "cell_type": "code",
      "execution_count": 19,
      "id": "a35ef1b7",
      "metadata": {
        "colab": {
          "base_uri": "https://localhost:8080/"
        },
        "id": "a35ef1b7",
        "outputId": "070cc192-aafd-4b79-b25d-f3b653bc7825"
      },
      "outputs": [
        {
          "name": "stdout",
          "output_type": "stream",
          "text": [
            "1\n",
            "2\n",
            "3\n",
            "4\n",
            "5\n",
            "6\n",
            "7\n",
            "8\n",
            "9\n",
            "La suma de todos los elementos es: 45\n"
          ]
        }
      ],
      "source": [
        "# Espacio para desarrollar el código, escriba comentarias breves para explicar su funcionamiento.\n",
        "\n",
        "# 1. una lista bidimensional es una lista con listas dentro, puede verse tambien como una matriz\n",
        "\n",
        "# 2.\n",
        "\n",
        "bi_list = [ [1, 2, 3],\n",
        "            [4, 5, 6],\n",
        "            [7, 8, 9] ]\n",
        "\n",
        "# 3 y 4\n",
        "sum = 0\n",
        "for fila in bi_list:\n",
        "    for elemento in fila:\n",
        "        print(elemento) # imprime los valores\n",
        "        sum += elemento  # suma los valores con los anteriores\n",
        "\n",
        "print(f\"La suma de todos los elementos es: {sum}\")\n",
        "\n",
        "\n",
        "\n",
        "\n",
        "\n"
      ]
    },
    {
      "cell_type": "markdown",
      "id": "4261fa65",
      "metadata": {
        "id": "4261fa65"
      },
      "source": [
        "# Actividad: Revision de los métodos usados en el manejo de diccionarios.\n",
        "\n",
        "## Instrucciones\n",
        "\n",
        "1. Crear un diccionario.\n",
        "2. Testear los siguientes métodos para el majeo de diccionarios get(), keys(), values(), items(), pop(), clear()\n",
        "3. Agregar un breve comentario sobre su funcionamiento."
      ]
    },
    {
      "cell_type": "code",
      "execution_count": 24,
      "id": "2f5887bb",
      "metadata": {
        "colab": {
          "base_uri": "https://localhost:8080/"
        },
        "id": "2f5887bb",
        "outputId": "b0283b40-a235-4fc8-d865-63ea434faeda"
      },
      "outputs": [
        {
          "name": "stdout",
          "output_type": "stream",
          "text": [
            "Juan\n",
            "dict_keys(['nombre', 'edad', 'ciudad'])\n",
            "dict_values(['Juan', 30, 'Madrid'])\n",
            "dict_items([('nombre', 'Juan'), ('edad', 30), ('ciudad', 'Madrid')])\n",
            "30\n",
            "None\n"
          ]
        }
      ],
      "source": [
        "# Espacio para desarrollar el código.\n",
        "\n",
        "# Crear un diccionario\n",
        "diccionario = {'nombre': 'Juan', 'edad': 30, 'ciudad': 'Madrid'}\n",
        "\n",
        "print(diccionario.get('nombre'))\n",
        "print(diccionario.keys())\n",
        "print(diccionario.values())\n",
        "print(diccionario.items())\n",
        "print(diccionario.pop('edad'))\n",
        "print(diccionario.clear())\n",
        "\n",
        "\n",
        "\n",
        "\n",
        "\n",
        "\n"
      ]
    }
  ],
  "metadata": {
    "colab": {
      "provenance": []
    },
    "kernelspec": {
      "display_name": "Python 3 (ipykernel)",
      "language": "python",
      "name": "python3"
    },
    "language_info": {
      "codemirror_mode": {
        "name": "ipython",
        "version": 3
      },
      "file_extension": ".py",
      "mimetype": "text/x-python",
      "name": "python",
      "nbconvert_exporter": "python",
      "pygments_lexer": "ipython3",
      "version": "3.9.7"
    }
  },
  "nbformat": 4,
  "nbformat_minor": 5
}
