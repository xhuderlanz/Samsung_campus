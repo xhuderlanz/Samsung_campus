{
 "cells": [
  {
   "cell_type": "markdown",
   "id": "5d671b98",
   "metadata": {},
   "source": [
    "# Actividades Capítulo 4 - Estructuras de Datos\n",
    "\n",
    "Resumen de la actividad.\n",
    "\n",
    "\n",
    "- **1. Pilas y Colas**\n",
    "  - Actividad 1.2 - Implementar una Cola\n",
    "\n",
    "\n",
    "- **2. Búsqueda Secuencial**\n",
    "  - Actividad 2.1 - Búsqueda en una Lista\n",
    "\n",
    "\n",
    "- **3. Búsqueda Binaria**\n",
    "  - Actividad 3.1 - Búsqueda Binaria\n",
    "\n",
    "\n",
    "- **4. Tablas Hash**\n",
    "  - Actividad 4.1 - Implementar una Tabla Hash"
   ]
  },
  {
   "cell_type": "markdown",
   "id": "33866775",
   "metadata": {},
   "source": [
    "# Actividad: Implementación de una Pila en Python\n",
    "\n",
    "En esta actividad, tendrás la oportunidad de aplicar tus conocimientos sobre estructuras de datos y programación en Python para implementar una pila (stack). Una pila es una estructura de datos que sigue el principio \"Last-In-First-Out\" (LIFO), lo que significa que el último elemento que se agrega es el primero en ser eliminado.\n",
    "\n",
    "## Resumen:\n",
    "\n",
    "- **stack** = [ ]  # Recordando que una pila es básicamente una lista.\n",
    "- **append**: Método utilizado para agregar un elemento a la lista.\n",
    "- **pop**: Método usado para eliminar elementos de la lista, sino se especifica el índice se elimina el último elemento y retorna la lista resultante."
   ]
  },
  {
   "cell_type": "code",
   "execution_count": 17,
   "id": "fbb2dca1",
   "metadata": {},
   "outputs": [
    {
     "name": "stdout",
     "output_type": "stream",
     "text": [
      "A: ['Ana']\n",
      "C: ['Carlos']\n",
      "D: ['David']\n",
      "E: ['Elena']\n",
      "F: ['Fernando']\n",
      "G: ['Gabriela']\n",
      "H: ['Hugo']\n",
      "I: ['Isabel']\n",
      "J: ['Juan']\n",
      "L: ['Luis', 'Lucía', 'Lorena']\n",
      "M: ['Manuel', 'María', 'Miguel']\n",
      "N: ['Natalia', 'Nicolás', 'Nora']\n",
      "Ó: ['Óscar']\n",
      "O: ['Olivia']\n",
      "P: ['Pablo', 'Paula', 'Pedro']\n",
      "R: ['Raquel', 'Rafael', 'Renata', 'Roberto', 'Rosario']\n",
      "S: ['Sara', 'Sergio', 'Silvia']\n",
      "T: ['Tomás', 'Teresa']\n",
      "V: ['Víctor', 'Verónica']\n",
      "X: ['Ximena', 'Xavier']\n",
      "Y: ['Yolanda', 'Yenny']\n",
      "Z: ['Zaira', 'Zoe', 'Zacarías']\n",
      "Lista original: []\n"
     ]
    }
   ],
   "source": [
    "nombres_aleatorios = [\"Ana\", \"Carlos\", \"David\", \"Elena\", \"Fernando\", \"Gabriela\",\n",
    "                      \"Hugo\", \"Isabel\", \"Juan\", \"Luis\", \"Lucía\",\n",
    "                      \"Lorena\", \"Manuel\", \"María\", \"Miguel\", \"Natalia\",\n",
    "                      \"Nicolás\", \"Nora\", \"Óscar\", \"Olivia\", \"Pablo\", \"Paula\",\n",
    "                      \"Pedro\", \"Raquel\", \"Rafael\", \"Renata\", \"Roberto\", \"Rosario\",\n",
    "                      \"Sara\", \"Sergio\", \"Silvia\", \"Tomás\", \"Teresa\", \"Víctor\", \"Verónica\",\n",
    "                      \"Ximena\", \"Xavier\", \"Yolanda\", \"Yenny\", \"Zaira\", \"Zoe\", \"Zacarías\"]\n",
    "\n",
    "# Generar un código para revisar los nombres contenidos en la lista, y guardarlos en diferentes listas,\n",
    "# de acuerdo a la inicial del nombre, use los comandos usandos antenirmente y barra los elementos usando \n",
    "# el comando \"for nombre in nombres_aleatorios:\" al final del proceso la lista inicial debe quedar vacia.\n",
    "\n",
    "nombres_por_inicial = {}\n",
    "\n",
    "for nombre in nombres_aleatorios:  # buvle para recorrer la lista de nombres\n",
    "    inicial = nombre[0]\n",
    "    \n",
    "    if inicial not in nombres_por_inicial: # si la inicial no esta en el diccionario, se crea una lista vacia\n",
    "        nombres_por_inicial[inicial] = []\n",
    "        \n",
    "    nombres_por_inicial[inicial].append(nombre) # se agrega el nombre a la lista correspondiente\n",
    "    \n",
    "nombres_aleatorios.clear() # se limpia la lista de nombres\n",
    "    \n",
    "for inicial, nombres in nombres_por_inicial.items(): # se recorre el diccionario para imprimir los nombres\n",
    "    print(f\"{inicial}: {nombres}\")\n",
    "    \n",
    "print(f'Lista original: {nombres_aleatorios}') # se imprime la lista de nombres vacia\n"
   ]
  },
  {
   "cell_type": "markdown",
   "id": "490f04a8",
   "metadata": {},
   "source": [
    "# Actividad: Replique el código, mostrado en la presentación 36 correspondiente al capítulo 4.\n",
    "\n",
    "En este codódigo se muestra la creación de una clasa para crear una pila y hacer las actividades básicas correspondientes.\n",
    "\n",
    "- **__init__**: Creación de la pila.\n",
    "- **is_empty**: Verificación si la pila está vacia.\n",
    "- **push**: agregar elemento a la pila\n",
    "- **pop**:si la pila no está vacia eliminar el último de elemento.\n",
    "\n",
    "Use la notación mostrada en la presentacion 40, realice varias operaciones y comente brevemente los resultados (máximo 3 lineas), antes de pasar a la siguiente actividad asegurese de entender completamente la notación utilizada."
   ]
  },
  {
   "cell_type": "code",
   "execution_count": 7,
   "id": "950d71ca",
   "metadata": {},
   "outputs": [
    {
     "name": "stdout",
     "output_type": "stream",
     "text": [
      "David\n",
      "Elena\n",
      "Carlos\n",
      "Ana\n",
      "True\n"
     ]
    }
   ],
   "source": [
    "# Escriba su código en está celda y todos los comentarios necesarios en la misma celda.\n",
    "\n",
    "class Stack:\n",
    "    \n",
    "    def __init__(self):  # Constructor de la clase\n",
    "        self.stack = []\n",
    "        \n",
    "    def is_empty(self): # Metodo para verificar si la pila esta vacia\n",
    "        return True if len(self.stack) == 0 else False\n",
    "    \n",
    "    def push(self, item): # Metodo para agregar elementos a la pila\n",
    "        self.stack.append(item)\n",
    "        \n",
    "    def pop(self): # Metodo para eliminar elementos de la pila\n",
    "        return None if self.is_empty() else self.stack.pop()\n",
    "    \n",
    "    \n",
    "pila = Stack()\n",
    "pila.push(\"Ana\")\n",
    "pila.push(\"Carlos\")\n",
    "pila.push(\"David\")\n",
    "print(pila.pop())\n",
    "pila.push(\"Elena\")\n",
    "print(pila.pop())\n",
    "print(pila.pop())\n",
    "print(pila.pop())\n",
    "print(pila.is_empty())\n"
   ]
  },
  {
   "cell_type": "markdown",
   "id": "5f2fe9e8",
   "metadata": {},
   "source": [
    "# Actividad: Búsqueda secuencial.\n",
    "\n",
    "Se tiene una lista de 10 ciudades organizadas en función de la densidad de población, escriba una función para retornar la posición ocupada.\n"
   ]
  },
  {
   "cell_type": "code",
   "execution_count": 3,
   "id": "dec8954f",
   "metadata": {},
   "outputs": [
    {
     "name": "stdout",
     "output_type": "stream",
     "text": [
      "La posicion ocupada es 4\n"
     ]
    }
   ],
   "source": [
    "ciudades = [\n",
    "    \"Daca, Bangladés\",\n",
    "    \"Karachi, Pakistán\",\n",
    "    \"Nueva Delhi, India\",\n",
    "    \"Manila, Filipinas\",\n",
    "    \"Seúl, Corea del Sur\",\n",
    "    \"Cantón, China\",\n",
    "    \"Taipéi, Taiwán\",\n",
    "    \"Chenaral, Chile\",\n",
    "    \"Shenzhen, China\",\n",
    "    \"Bombay, India\"\n",
    "]\n",
    "\n",
    "def obtener_posicion(ciudades, ciudad):\n",
    "    for i in range(len(ciudades)):\n",
    "        if ciudades[i] == ciudad:\n",
    "            posicion = i\n",
    "            break\n",
    "    return posicion\n",
    "    \n",
    "\n",
    "posicion_ocupada = obtener_posicion(ciudades,\"Seúl, Corea del Sur\")\n",
    "print(f'La posicion ocupada es {posicion_ocupada}')"
   ]
  },
  {
   "cell_type": "markdown",
   "id": "9fffd532",
   "metadata": {},
   "source": [
    "# Actividad: Búsqueda binaria.\n",
    "\n",
    "- Escriba al menos una ventaja de la busqueda binaria.\n",
    "- Replique el código mostrado en la presentación 192.\n",
    "- Explique brevemente el funcionamiento del código, maximo 3 lineas.\n",
    "- Ingrese un piso de ruptura del huevo y calcule cuantas veces se realiza la revisión para encontrar el piso seguro.(Se puede agrear algún contador dentro del código para verificar)\n"
   ]
  },
  {
   "cell_type": "code",
   "execution_count": 13,
   "id": "bdc866e2",
   "metadata": {},
   "outputs": [
    {
     "name": "stdout",
     "output_type": "stream",
     "text": [
      "1 100 50\n",
      "51 100 75\n",
      "51 75 63\n",
      "51 63 57\n",
      "51 57 54\n",
      "55 57 56\n",
      "\n",
      "El huevo estara seguro hasta el piso 56\n",
      "El número de veces que se realizó la verificación fue 6\n"
     ]
    }
   ],
   "source": [
    "# Ventaja de la busqueda binaria\n",
    "'''\n",
    "Una ventaja principal de la búsqueda binaria es su eficiencia en términos de tiempo de ejecución; \n",
    "opera en tiempo logarítmico, lo que significa que puede manejar rápidamente grandes conjuntos de datos\n",
    "al reducir a la mitad el espacio de búsqueda con cada iteración.\n",
    "'''\n",
    "\n",
    "\n",
    "# Espacio para replicar el código.\n",
    "\n",
    "def do_experiment(floor, breaking):\n",
    "    return floor >= breaking\n",
    "\n",
    "def find_highest_safe_floor2(height, breaking):\n",
    "    low, high = 1, height\n",
    "    counter = 0   # Contador de veces que se realiza la verificación.\n",
    "    \n",
    "    while low < high:\n",
    "        counter += 1  # Contador de veces que se realiza la verificación.\n",
    "        mid = (low + high) // 2\n",
    "        print(low, high, mid)\n",
    "        \n",
    "        if do_experiment(mid, breaking):\n",
    "            high = mid\n",
    "        else:\n",
    "            low = mid + 1\n",
    "            \n",
    "    return low - 1, counter\n",
    "\n",
    "\n",
    "\n",
    "# Espacio para explicar funcionamiento.\n",
    "'''\n",
    "El codigo determina el piso mas alto seguro para un huevo. Divide el rango de pisos en cada iteracion, \n",
    "utilizando el resultado de un experimento simulado para ajustar los limites de busqueda hasta que low y high convergen, \n",
    "encontrando asi el ultimo piso seguro antes del punto de ruptura.\n",
    "'''\n",
    "\n",
    "\n",
    "# Cálculo y verificación del número de veces que se realiza la verificación.\n",
    "\n",
    "height = int(input('Ingrese el número de pisos: '))\n",
    "breaking = int(input('Ingrese el número de piso donde se romperá el huevo: '))\n",
    "floor, counter = find_highest_safe_floor2(height, breaking)\n",
    "\n",
    "print(f'\\nEl huevo estara seguro hasta el piso {floor}')\n",
    "print(f'El número de veces que se realizó la verificación fue {counter}')\n",
    "\n"
   ]
  },
  {
   "cell_type": "markdown",
   "id": "eb266a1e",
   "metadata": {},
   "source": [
    "# Actividad: Definir una tabla Hash tipo diccionario.\n",
    "\n",
    "En la siguiente celda se muestrar como crear un diccionario, como agregar elementos, como eliminar elementos,\n",
    "como verificar si la key existe en el diccionario, basados en este código agregue otros elementos, comente los resultados, si tienes alguna duda también la puedes escribir. (Use máximo 3 líneas en la explicación)\n"
   ]
  },
  {
   "cell_type": "code",
   "execution_count": 15,
   "id": "f48163a5",
   "metadata": {},
   "outputs": [
    {
     "name": "stdout",
     "output_type": "stream",
     "text": [
      "Nombre: Juan\n",
      "Edad: 30\n",
      "Ciudad: Nueva York\n",
      "Profesion: Ingeniero\n",
      "La clave 'ciudad' no está en el diccionario.\n",
      "La clave profesion está en el diccionario.\n"
     ]
    }
   ],
   "source": [
    "# Crear un diccionario vacío\n",
    "mi_diccionario = {}\n",
    "\n",
    "# Agregar elementos al diccionario\n",
    "mi_diccionario[\"nombre\"] = \"Juan\"\n",
    "mi_diccionario[\"edad\"] = 30\n",
    "mi_diccionario[\"ciudad\"] = \"Nueva York\"\n",
    "\n",
    "# Elementos adicionales\n",
    "mi_diccionario[\"profesion\"] = \"Ingeniero\"\n",
    "mi_diccionario[\"hobbies\"] = [\"Leer\", \"Viajar\", \"Cocinar\"]\n",
    "\n",
    "\n",
    "# Acceder a los valores por clave\n",
    "print(\"Nombre:\", mi_diccionario[\"nombre\"])\n",
    "print(\"Edad:\", mi_diccionario[\"edad\"])\n",
    "print(\"Ciudad:\", mi_diccionario[\"ciudad\"])\n",
    "print(\"Profesion:\", mi_diccionario[\"profesion\"])\n",
    "\n",
    "# Modificar un valor existente\n",
    "mi_diccionario[\"edad\"] = 31\n",
    "mi_diccionario[\"nombre\"] = \"Ana\"\n",
    "\n",
    "\n",
    "# Eliminar un elemento del diccionario\n",
    "del mi_diccionario[\"ciudad\"]\n",
    "del mi_diccionario[\"edad\"]\n",
    "\n",
    "\n",
    "# Verificar si una clave existe en el diccionario\n",
    "if \"ciudad\" in mi_diccionario:\n",
    "    print(\"La clave 'ciudad' está en el diccionario.\")\n",
    "else:\n",
    "    print(\"La clave 'ciudad' no está en el diccionario.\")\n",
    "    \n",
    "# Otra verificacion\n",
    "\n",
    "# Verificar si una clave existe en el diccionario\n",
    "clave = 'profesion'\n",
    "if clave in mi_diccionario:\n",
    "    print(f\"La clave {clave} está en el diccionario.\")\n",
    "else:\n",
    "    print(f\"La clave {clave} no está en el diccionario.\")\n",
    "    \n",
    "    \n",
    "'''\n",
    "Este codigo muestra como crear un diccionario, agregar elementos, acceder a los valores por clave,\n",
    "modificar un valor existente, eliminar un elemento del diccionario, verificar si una clave existe en el diccionario\n",
    "'''"
   ]
  }
 ],
 "metadata": {
  "kernelspec": {
   "display_name": "Python 3",
   "language": "python",
   "name": "python3"
  },
  "language_info": {
   "codemirror_mode": {
    "name": "ipython",
    "version": 3
   },
   "file_extension": ".py",
   "mimetype": "text/x-python",
   "name": "python",
   "nbconvert_exporter": "python",
   "pygments_lexer": "ipython3",
   "version": "3.9.7"
  }
 },
 "nbformat": 4,
 "nbformat_minor": 5
}
