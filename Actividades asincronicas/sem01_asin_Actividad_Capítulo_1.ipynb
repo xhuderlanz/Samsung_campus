{
  "cells": [
    {
      "cell_type": "markdown",
      "id": "f34adb44",
      "metadata": {
        "id": "f34adb44"
      },
      "source": [
        "# Actividades Capítulo 1.\n",
        "\n",
        "\n",
        "# Concepto básico de programación e inicio en Python\n",
        "\n",
        "## Resumen de actividades\n",
        "\n",
        "- **Unidad 1**: Programación secuencial\n",
        "- **Unidad 2**: Planificación de la programación\n",
        "- **Unidad 3**: Fundamentos de los tipos de datos numéricos y operaciones aritméticas\n",
        "- **Unidad 4**: Variables e insumos\n",
        "- **Unidad 5**: Operaciones lógicas y de comparación\n",
        "- **Unidad 6**: Enunciado condicional-1: Condiciones y toma de decisiones\n",
        "- **Unidad 7**: Enunciado condicional-2: Tomar decisiones en dos direcciones y aplicar enunciados condicionales\n",
        "- **Unidad 8**: Bucle-1\n",
        "- **Unidad 9**: Bucle-2\n"
      ]
    },
    {
      "cell_type": "markdown",
      "id": "ac1e9b02",
      "metadata": {
        "id": "ac1e9b02"
      },
      "source": [
        "# Actividad: Concepto de algoritmo.\n",
        "\n",
        "Escriva son sus propias palabras el concepto que tiene de algoritmo.\n",
        "\n",
        "**Respuesta:**\n",
        "\n",
        "\n",
        "\n",
        "\n",
        "**Algoritmos cotidiano**\n",
        "Escriba con detalles algún algoritmo que usted haya desarrollado continuamente durante sus actividades diarias.\n",
        "    \n",
        "- 1- rutina de la mañana, levantarme, hacer la cama, cepillarme los dientes...etc.\n",
        "- 2-rutina de viajar al trabajo, ir a la parada, esperar al bus, hacer un transbordo en una terminal...etc.\n",
        "- 3-rutina de elaboración de una comida, buscar los ingredientes, prepararlos para su cocción, cocinarlos de acuerdo a la receta deseada...etc."
      ]
    },
    {
      "cell_type": "markdown",
      "id": "0da9ca7e",
      "metadata": {
        "id": "0da9ca7e"
      },
      "source": [
        "# Actividad: Programación secuencial.\n",
        "\n",
        "A continuación nombre las 3 estructuras básicas de programación.\n",
        "\n",
        "Espacio para respuestas:\n",
        "    \n",
        "- 1- secuencia de acciones\n",
        "- 2- bucle\n",
        "- 3- condicionales\n",
        "\n"
      ]
    },
    {
      "cell_type": "markdown",
      "id": "4b761414",
      "metadata": {
        "id": "4b761414"
      },
      "source": [
        "# Actividad: Revise y escriba los comandos utilizados para crear y activar\n",
        "\n",
        "# un entorno virtual.\n",
        "\n",
        "Escriba el comando usado para crear un entorno virtual, agrege un comentaria sobre su funcionamiento al aldo del comando.\n",
        "\n",
        "**Lista de Comandos:**\n",
        "\n",
        "Enumere algunas de las ventajas de usar un entorno virtual.\n",
        "\n",
        "\n",
        "    1- podemos probar cosas sin miedo dañar nuestro dispositivo.\n",
        "    2- para contar con diferentes espacios de trabajo independientes\n",
        "    3- para trabajar con múltiples versiones de manera sencilla\n",
        "\n"
      ]
    },
    {
      "cell_type": "markdown",
      "id": "49829fb9",
      "metadata": {
        "id": "49829fb9"
      },
      "source": [
        "# Tipos de datos numéricos y operaciones matemáticas.\n",
        "\n",
        "Ejecuta el código de la siguiente celda, verifica el tipo de dato retornado en cada una de las asignaciones, para ello use el comando type(variable) en combinacion con el comando print()\n",
        "\n"
      ]
    },
    {
      "cell_type": "code",
      "execution_count": null,
      "id": "96922b41",
      "metadata": {
        "id": "96922b41",
        "colab": {
          "base_uri": "https://localhost:8080/"
        },
        "outputId": "031fa56a-9c4d-41cf-8d8b-2747ac134cb8"
      },
      "outputs": [
        {
          "output_type": "stream",
          "name": "stdout",
          "text": [
            "<class 'str'>\n",
            "<class 'int'>\n",
            "<class 'float'>\n",
            "<class 'list'>\n"
          ]
        }
      ],
      "source": [
        "texto = 'Hola! bienvenido al mundo de la programación'\n",
        "# Escribe acá el código necesario para verificar el tipo de variable.\n",
        "print(type(texto))\n",
        "\n",
        "entero = 4\n",
        "# Escribe acá el código necesario para verificar el tipo de variable.\n",
        "print(type(entero))\n",
        "\n",
        "\n",
        "\n",
        "valor_flotante = 3.4\n",
        "# Escribe acá el código necesario para verificar el tipo de variable.\n",
        "print(type(valor_flotante))\n",
        "\n",
        "\n",
        "\n",
        "ejemplo_de_lista = [1,2,3,4,4]\n",
        "# Escribe acá el código necesario para verificar el tipo de variable.\n",
        "print(type(ejemplo_de_lista))\n",
        "\n",
        "\n",
        "\n",
        "ejemplo_de_diccionario = {'name':'Jhon Doe','edge':64}\n",
        "# Escribe acá el código necesario para verificar el tipo de variable.\n",
        "\n",
        "\n"
      ]
    },
    {
      "cell_type": "markdown",
      "id": "c718ddbf",
      "metadata": {
        "id": "c718ddbf"
      },
      "source": [
        "### **Actividad: Operaciones Matemáticas en Python**\n",
        "\n",
        "En esta actividad, realizarás operaciones matemáticas básicas en Python.\n",
        "\n",
        "#### **Instrucciones:**\n",
        "\n",
        "1. Crea una variable `numero1` y asígnale un número entero.\n",
        "2. Crea una variable `numero2` y asígnale otro número entero.\n",
        "3. Suma los valores de `numero1` y `numero2`, y almacena el resultado en una variable llamada `suma`.\n",
        "4. Resta `numero2` de `numero1` y almacena el resultado en una variable llamada `resta`.\n",
        "5. Multiplica `numero1` y `numero2`, y almacena el resultado en una variable llamada `multiplicacion`.\n",
        "6. Divide `numero1` entre `numero2` y almacena el resultado en una variable llamada `division`.\n",
        "\n",
        "Completa el código en Python con las operaciones y luego imprime los valores de `suma`, `resta`, `multiplicacion`, y `division`."
      ]
    },
    {
      "cell_type": "code",
      "execution_count": 1,
      "id": "71ff6ca5",
      "metadata": {
        "id": "71ff6ca5",
        "colab": {
          "base_uri": "https://localhost:8080/"
        },
        "outputId": "c951f03f-3b22-4950-8ab0-179c98ce93a1"
      },
      "outputs": [
        {
          "output_type": "stream",
          "name": "stdout",
          "text": [
            "La suma es: 15\n",
            "La resta es: 5\n",
            "La multiplicación es: 50\n",
            "La división es: 2.0\n"
          ]
        }
      ],
      "source": [
        "# Desarrolla el código en la siguiente celda.\n",
        "numero1 = 10\n",
        "numero2 = 5\n",
        "suma = numero1 + numero2\n",
        "resta = numero1 - numero2\n",
        "multiplicacion = numero1 * numero2\n",
        "division = numero1 / numero2\n",
        "\n",
        "print(\"La suma es:\", suma)\n",
        "print(\"La resta es:\", resta)\n",
        "print(\"La multiplicación es:\", multiplicacion)\n",
        "print(\"La división es:\", division)\n",
        "\n",
        "\n",
        "\n",
        "\n",
        "\n",
        "\n",
        "\n",
        "\n",
        "\n",
        "\n",
        "\n"
      ]
    },
    {
      "cell_type": "markdown",
      "id": "5a0d7513",
      "metadata": {
        "id": "5a0d7513"
      },
      "source": [
        "# Resumen de los operadores lógicos usados en Python.\n",
        "\n",
        "\n",
        "\n",
        "\n",
        "| **Operador** | **Descripción**                        |\n",
        "|:------------:|:--------------------------------------:|\n",
        "|    `and`     | <span style=\"font-size:larger\">Devuelve True si ambos operandos son True.</span> |\n",
        "|     `or`     | <span style=\"font-size:larger\">Devuelve True si al menos uno de los operandos es True.</span> |\n",
        "|    `not`     | <span style=\"font-size:larger\">Invierte el valor del operando; True se convierte en False y viceversa.</span> |\n"
      ]
    },
    {
      "cell_type": "code",
      "execution_count": null,
      "id": "978c0b04",
      "metadata": {
        "id": "978c0b04"
      },
      "outputs": [],
      "source": []
    },
    {
      "cell_type": "markdown",
      "id": "3db9e2cb",
      "metadata": {
        "id": "3db9e2cb"
      },
      "source": [
        "<!DOCTYPE html>\n",
        "<html>\n",
        "<head>\n",
        "<style>\n",
        "  table {\n",
        "    font-size: 24px;\n",
        "  }\n",
        "  th, td {\n",
        "    padding: 10px;\n",
        "    text-align: center;\n",
        "  }\n",
        "</style>\n",
        "</head>\n",
        "<body>\n",
        "  <h2>Comparadores Lógicos en Python</h2>\n",
        "  <table>\n",
        "    <tr>\n",
        "      <th><b>Comparadores</b></th>\n",
        "      <th><b>Descripción</b></th>\n",
        "    </tr>\n",
        "    <tr>\n",
        "      <td>==</td>\n",
        "      <td>Igual a (compara si dos valores son iguales)</td>\n",
        "    </tr>\n",
        "    <tr>\n",
        "      <td>!=</td>\n",
        "      <td>Diferente de (compara si dos valores son distintos)</td>\n",
        "    </tr>\n",
        "    <tr>\n",
        "      <td>&lt;</td>\n",
        "      <td>Menor que (compara si un valor es menor que otro)</td>\n",
        "    </tr>\n",
        "    <tr>\n",
        "      <td>&gt;</td>\n",
        "      <td>Mayor que (compara si un valor es mayor que otro)</td>\n",
        "    </tr>\n",
        "    <tr>\n",
        "      <td>&lt;=</td>\n",
        "      <td>Menor o igual que (compara si un valor es menor o igual que otro)</td>\n",
        "    </tr>\n",
        "    <tr>\n",
        "      <td>&gt;=</td>\n",
        "      <td>Mayor o igual que (compara si un valor es mayor o igual que otro)</td>\n",
        "    </tr>\n",
        "  </table>\n",
        "</body>\n",
        "</html>\n"
      ]
    },
    {
      "cell_type": "markdown",
      "id": "1de5a5f0",
      "metadata": {
        "id": "1de5a5f0"
      },
      "source": [
        "### **Actividad: Uso de operadores**\n",
        "\n",
        "En esta actividad, usaras los operadores\n",
        "\n",
        "#### **Instrucciones:**\n",
        "\n",
        "1. Generar un loop que revise cada uno de los elementos contenidos en la lista llamada \"lista_de_elementos\".\n",
        "2. Revisar el tipo de elemento.\n",
        "3. Comparar si el valor esta por debajo del umbral definido, en ese caso imprimir la palabra ¨aprobado¨ en caso contrario imprimir ¨Rechazado¨\n",
        "4. En el código incluya dos contadores, para contabilizar el número de aprobados y rechazados, al final del codigo imprima el total de cada uno de ellos.\n",
        "5. Contabilize los elementos que son tipo string y de igual forma imprima final del loop el resultado.\n"
      ]
    },
    {
      "cell_type": "code",
      "source": [
        "umbral = -10\n",
        "lista_de_elementos = [10, 3.14, \"7\", -5, \"2.718\", 42, \"Python\", -8.9, \"Hola\", 100.5, \"Mundo\", -15, \"GPT-3\", 5.5, \"AI\", -20, \"2023\", 123, \"OpenAI\", -2.5, \"Ejemplo\"]\n",
        "\n",
        "aprobados = 0\n",
        "rechazados = 0\n",
        "conteo_strings = 0\n",
        "\n",
        "for elemento in lista_de_elementos:\n",
        "    tipo_elemento = type(elemento)\n",
        "\n",
        "    if tipo_elemento in (int, float):\n",
        "          if elemento < umbral:\n",
        "             print(\"Rechazado\")\n",
        "             rechazados += 1\n",
        "          else:\n",
        "             print(\"Aprobado\")\n",
        "             aprobados += 1\n",
        "    elif tipo_elemento == str:\n",
        "       conteo_strings += 1\n",
        "print(\"Total aprobados:\", aprobados)\n",
        "print(\"Total rechazados:\", rechazados)\n",
        "print(\"Total de strings:\", conteo_strings)"
      ],
      "metadata": {
        "id": "a78KKBKvDjw0",
        "colab": {
          "base_uri": "https://localhost:8080/"
        },
        "outputId": "97e1b1f4-d46f-4f36-9144-e1aa5e867fed"
      },
      "id": "a78KKBKvDjw0",
      "execution_count": 3,
      "outputs": [
        {
          "output_type": "stream",
          "name": "stdout",
          "text": [
            "Aprobado\n",
            "Aprobado\n",
            "Aprobado\n",
            "Aprobado\n",
            "Aprobado\n",
            "Aprobado\n",
            "Rechazado\n",
            "Aprobado\n",
            "Rechazado\n",
            "Aprobado\n",
            "Aprobado\n",
            "Total aprobados: 9\n",
            "Total rechazados: 2\n",
            "Total de strings: 10\n"
          ]
        }
      ]
    },
    {
      "cell_type": "markdown",
      "source": [],
      "metadata": {
        "id": "oSLnbjt3DjhL"
      },
      "id": "oSLnbjt3DjhL"
    }
  ],
  "metadata": {
    "kernelspec": {
      "display_name": "Python 3 (ipykernel)",
      "language": "python",
      "name": "python3"
    },
    "language_info": {
      "codemirror_mode": {
        "name": "ipython",
        "version": 3
      },
      "file_extension": ".py",
      "mimetype": "text/x-python",
      "name": "python",
      "nbconvert_exporter": "python",
      "pygments_lexer": "ipython3",
      "version": "3.10.12"
    },
    "colab": {
      "provenance": []
    }
  },
  "nbformat": 4,
  "nbformat_minor": 5
}