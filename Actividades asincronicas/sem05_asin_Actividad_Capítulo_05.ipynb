{
 "cells": [
  {
   "cell_type": "markdown",
   "id": "5ad8356f",
   "metadata": {},
   "source": [
    "# Actividades Capítulo 5.\n",
    "\n",
    "\n",
    "# Algoritmos de clasificación.\n",
    "\n",
    "## Resumen de actividades\n",
    "\n",
    "\n",
    "- **Unidad 27.** Ordenamiento de burbuja, (Bubble Sort) algoritmo de ordenamiento, selección e inserción\n",
    "- **Unidad 28.** Ordenar por selección, ordenamiento por inserción.\n",
    "- **Unidad 29.** Clasificación rápida\n"
   ]
  },
  {
   "cell_type": "markdown",
   "id": "8c5aa9c8",
   "metadata": {},
   "source": [
    "# Actividad: Ordenamiento de Burbuja\n",
    "\n",
    "\n",
    "## Instrucciones\n",
    "\n",
    "1. Explique brevemente y en forma clara cómo funciona el algoritmo de ordenamiento de burbuja.\n",
    "\n",
    "2. Desarrollo un función donde se use el ordenamiento de burbuja aplicada a una lista de valores enteros.\n",
    "\n"
   ]
  },
  {
   "cell_type": "code",
   "execution_count": 3,
   "id": "90cd2e33",
   "metadata": {},
   "outputs": [
    {
     "name": "stdout",
     "output_type": "stream",
     "text": [
      "[50, 30, 40, 10, 20]\n",
      "[30, 40, 10, 20, 50]\n",
      "[30, 10, 20, 40, 50]\n",
      "[10, 20, 30, 40, 50]\n",
      "[10, 20, 30, 40, 50]\n",
      "[10, 20, 30, 40, 50]\n"
     ]
    }
   ],
   "source": [
    "# Espacio para desarrollar el código requerido, recuerde agregar algunos\n",
    "# comentarios breves sobre su funcionamiento.\n",
    "\n",
    "def bubblesort(S): #Definimos la función bubblesort con un parámetro de entrada S\n",
    "    n = len(S) #Definimos n como la longitud de S\n",
    "    for i in range(n): #Definimos un ciclo for que recorre n veces\n",
    "        print(S)\n",
    "        for j in range(n - 1):  # En cada iteración, se recorre la lista S desde el primer elemento hasta el penúltimo\n",
    "                                # elemento, comparando cada par de elementos adyacentes y si están en el orden incorrecto,\n",
    "                                # se intercambian.\n",
    "            if S[j] > S[j + 1]:\n",
    "                S[j], S[j + 1] = S[j + 1], S[j]\n",
    "\n",
    "S = [50, 30, 40, 10, 20]\n",
    "\n",
    "bubblesort(S)\n",
    "\n",
    "print(S)\n",
    "\n",
    "\n",
    "\n",
    "\n",
    "\n",
    "\n"
   ]
  },
  {
   "cell_type": "markdown",
   "id": "a11871f3",
   "metadata": {},
   "source": [
    "# Actividad: Función Swap.\n",
    "\n",
    "1. Escriba una función que permita el intercambion de elementos en una lista.\n",
    "2. Los argumentos de esta función serán, la lista y los indices de los elementos que se desean intercambiar.\n",
    "3. En la siguiente celda desarrollo el código requerido, recuerde agregar comentarias breves que expliquen su funcionamiento.\n"
   ]
  },
  {
   "cell_type": "code",
   "execution_count": 4,
   "id": "1e7a5371",
   "metadata": {},
   "outputs": [
    {
     "name": "stdout",
     "output_type": "stream",
     "text": [
      "[50, 30, 40, 10, 20]\n",
      "[50, 10, 40, 30, 20]\n"
     ]
    }
   ],
   "source": [
    "# Espacio para desarrollar la actividad, si tienes alguna duda o comentario adicional\n",
    "# lo puedes dejar planteado acá.\n",
    "\n",
    "def swap(S, x, y):          #Definimos la función swap con tres parámetros de entrada S, x, y# \n",
    "    S[x], S[y] = S[y], S[x] # Intercambiamos los valores de S[x] y S[y] utilizando una variable temporal\n",
    "                            # esto se hace para que no se pierda el valor de S[x] al asignarle el valor de S[y]\n",
    "    \n",
    "S = [50, 30, 40, 10, 20]\n",
    "\n",
    "print(S)\n",
    "swap(S, 1, 3)\n",
    "print(S)\n",
    "\n",
    "\n",
    "\n",
    "\n",
    "\n",
    "\n",
    "\n"
   ]
  },
  {
   "cell_type": "markdown",
   "id": "a207d974",
   "metadata": {},
   "source": [
    "\n",
    "# Actividad: \n",
    "\n",
    "1. Explique brevemente el funcionamiento del algoritmo Quick Sort.\n",
    "2. Desarrollo el código para implementar el algoritmo Quick Sort.\n",
    "3. Revise las unidad 29, sección 1.1"
   ]
  },
  {
   "cell_type": "code",
   "execution_count": null,
   "id": "a4f925a4",
   "metadata": {},
   "outputs": [],
   "source": [
    "# Celda para desarrollar \n",
    "\n",
    "def quicksort(S, low, high):                        # La función quicksort recibe tres parámetros de entrada: S, low y high\n",
    "    if low< high:                                   # funciona como un caso base para la recursión de la función quicksort\n",
    "                                                    # si low es menor que high, se ejecuta el código el cual se encarga de\n",
    "                                                    # ordenar la lista S de forma recursiva \n",
    "        pivotpoint = partition(S, low, high)        # Se llama a la función partition con los parámetros S, low y high\n",
    "        quicksort(S, low, pivotpoint - 1)\n",
    "        quicksort(S, pivotpoint + 1, high)  \n",
    "        \n",
    "def partition(S, low, high):                        # La función partition recibe tres parámetros de entrada: S, low y high \n",
    "                                             \n",
    "    pivot = S[low]\n",
    "    left, right = low + 1, high                     # Se inicializan las variables left y right con los valores de low + 1 y high\n",
    "                                                    # respectivamente, con el fin de que left sea menor que right\n",
    "    \n",
    "    while left < right:                             # Mientras left sea menor que right, se ejecuta el código\n",
    "                                                    # el cual se encarga de intercambiar los elementos de la lista S\n",
    "                                                    # de tal forma que los elementos menores al pivote estén a la izquierda\n",
    "                                                    # y los elementos mayores al pivote estén a la derecha\n",
    "        print(S)\n",
    "        while left <= right and S[left] <= pivot:\n",
    "            left += 1\n",
    "        while left <= right and S[right] >= pivot:\n",
    "            right -= 1\n",
    "        if left < right:\n",
    "            S[left], S[right] = S[right], S[left]\n",
    "    pivotpoint = right\n",
    "    S[low], S[pivotpoint] = S[pivotpoint], S[low]\n",
    "    return pivotpoint\n",
    "\n",
    "\n",
    "        \n",
    "\n",
    "\n",
    "\n",
    "\n",
    "\n"
   ]
  },
  {
   "cell_type": "markdown",
   "id": "26a6bb9e",
   "metadata": {},
   "source": [
    "# Actividad: Quick Sort usando un valor de pivote aleatorio.\n",
    "\n",
    "1. Explique brevemente el funcionamiento del algoritmo Quick Sort en la modaladidad de usar un valor de pivote aleatorio.\n",
    "2. Comente las ventajas de esta variación.\n",
    "3. Desarrollo el código necesarion para este algoritmo.\n",
    "4. Agregue comentarios sobre su funcionamiento.\n",
    "\n"
   ]
  },
  {
   "cell_type": "code",
   "execution_count": 1,
   "id": "6670eace",
   "metadata": {},
   "outputs": [
    {
     "name": "stdout",
     "output_type": "stream",
     "text": [
      "[13, 22, 20, 15, 25, 12, 10] 0 6 pivot =  13\n",
      "[12, 10, 13, 15, 25, 20, 22] 0 1 pivot =  12\n",
      "[10, 12, 13, 20, 25, 15, 22] 3 6 pivot =  20\n",
      "[10, 12, 13, 15, 20, 22, 25] 5 6 pivot =  22\n",
      "[10, 12, 13, 15, 20, 22, 25]\n"
     ]
    },
    {
     "ename": "",
     "evalue": "",
     "output_type": "error",
     "traceback": [
      "\u001b[1;31mThe Kernel crashed while executing code in the current cell or a previous cell. \n",
      "\u001b[1;31mPlease review the code in the cell(s) to identify a possible cause of the failure. \n",
      "\u001b[1;31mClick <a href='https://aka.ms/vscodeJupyterKernelCrash'>here</a> for more info. \n",
      "\u001b[1;31mView Jupyter <a href='command:jupyter.viewOutput'>log</a> for further details."
     ]
    }
   ],
   "source": [
    "# Espacio para desarrollar el código siguiendo las instrucciones.\n",
    "\n",
    "'''\n",
    "El algoritmo Quick Sort en la modalidad de un valor pivote aleatorio funciona de la siguiente manera:\n",
    "    1. Se elige un valor pivote aleatorio en la lista S.\n",
    "    2. Se reorganiza la lista S de tal forma que los elementos menores al pivote estén a la izquierda y los elementos mayores al pivote estén a la derecha.\n",
    "    3. Se repiten los pasos 1 y 2 para las sublistas generadas a la izquierda y a la derecha del pivote.\n",
    "    4. El algoritmo termina cuando todas las sublistas tienen un solo elemento.\n",
    "    \n",
    "# Las ventajas de esta variante de Quick Sort son:\n",
    "    1. El tiempo de ejecución es más predecible.\n",
    "    2. El peor caso es menos probable.\n",
    "    3. El tiempo de ejecución es más rápido en promedio.\n",
    "'''\n",
    "\n",
    "# Inclucion de la libreria random\n",
    "\n",
    "from random import randint\n",
    "\n",
    "# Funcion quicksort con pivote aleatorio\n",
    "\n",
    "def partition(S, low, high):                        # La función partition recibe tres parámetros de entrada: S, low y high\n",
    "    rand = randint(low, high)                       # Se elige un valor pivote aleatorio en la lista S\n",
    "    S[low], S[rand] = S[rand], S[low]               # Se intercambian los valores de S[low] y S[rand]\n",
    "    pivot, left, right = S[low], low, high          # Se inicializan las variables pivot, left y right con los valores de S[low], low y high\n",
    "    \n",
    "    print(S, left, right, \"pivot = \", pivot)\n",
    "\n",
    "    while left < right:                                 # Mientras left sea menor que right, se ejecuta el código\n",
    "        while left < high and S[left] <= pivot:         # Esto se hace para que left sea menor que high y el valor de S[left] sea menor o igual al pivote\n",
    "            left += 1\n",
    "        while right > low and pivot <= S[right]:        # Esto se hace para que right sea mayor que low y el valor de S[right] sea mayor o igual al pivote\n",
    "            right -= 1\n",
    "        if left < right:                                # Si left es menor que right, se intercambian los valores de S[left] y S[right]                 \n",
    "            S[left], S[right] = S[right], S[left]\n",
    "    S[low], S[right] = S[right], S[low]\n",
    "    return right\n",
    "\n",
    "\n",
    "def quicksort(S, low, high):\n",
    "    if low < high:\n",
    "        pivotpoint = partition(S, low, high)\n",
    "        quicksort(S, low, pivotpoint - 1)\n",
    "        quicksort(S, pivotpoint + 1, high)\n",
    "        \n",
    "        \n",
    "S = [25, 22, 20, 15, 13, 12, 10]\n",
    "quicksort(S, 0, len(S) - 1)\n",
    "print(S)"
   ]
  }
 ],
 "metadata": {
  "kernelspec": {
   "display_name": "Python 3 (ipykernel)",
   "language": "python",
   "name": "python3"
  },
  "language_info": {
   "codemirror_mode": {
    "name": "ipython",
    "version": 3
   },
   "file_extension": ".py",
   "mimetype": "text/x-python",
   "name": "python",
   "nbconvert_exporter": "python",
   "pygments_lexer": "ipython3",
   "version": "3.9.7"
  }
 },
 "nbformat": 4,
 "nbformat_minor": 5
}
