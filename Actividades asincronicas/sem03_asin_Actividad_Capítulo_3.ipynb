{
  "cells": [
    {
      "cell_type": "markdown",
      "id": "5ad8356f",
      "metadata": {
        "id": "5ad8356f"
      },
      "source": [
        "# Actividades Capítulo 3.\n",
        "\n",
        "\n",
        "# Concepto básico de programación e inicio en Python\n",
        "\n",
        "## Resumen de actividades\n",
        "\n",
        "\n",
        "- **Unidad 17.** Función\n",
        "- **Unidad 18.** Llamada a la función de recurrencia.\n",
        "- **Unidad 19.** Lambda\n",
        "- **Unidad 20.** Clausura\n",
        "- **Unidad 21.** Clase\n"
      ]
    },
    {
      "cell_type": "markdown",
      "id": "8c5aa9c8",
      "metadata": {
        "id": "8c5aa9c8"
      },
      "source": [
        "# Actividad: Creacion de funciones.\n",
        "\n",
        "\n",
        "## Instrucciones\n",
        "\n",
        "1. Defina en forma breve el concepto de función.\n",
        "\n",
        "2. Crear una función para realizar la suma de los números impares en el rango de 0 a 100, dentro de la función imprima los valores sumados y al final retorne el resultado de la sumatoria.\n"
      ]
    },
    {
      "cell_type": "code",
      "execution_count": null,
      "id": "90cd2e33",
      "metadata": {
        "colab": {
          "base_uri": "https://localhost:8080/"
        },
        "id": "90cd2e33",
        "outputId": "a513d843-6914-495e-9221-caad5a101279"
      },
      "outputs": [
        {
          "name": "stdout",
          "output_type": "stream",
          "text": [
            "La sumatoria es: 2500\n"
          ]
        },
        {
          "data": {
            "text/plain": [
              "2500"
            ]
          },
          "execution_count": 1,
          "metadata": {},
          "output_type": "execute_result"
        }
      ],
      "source": [
        "# Espacio para desarrollar el código requerido, recuerde agregar algunos\n",
        "# comentarios breves sobre su funcionamiento.\n",
        "\n",
        "# Una funcion es un conjunto de codigo que puedo ejecutar cuando es llamada, generalmente para una funcionalidad especifica\n",
        "\n",
        "\n",
        "# funcion para sumar numeros impares\n",
        "def sum_impar ():\n",
        "  sum = 0\n",
        "  for num in range(1,101,2):       # bucle para sumar numeros impares\n",
        "      sum+=num\n",
        "  print(f\"La sumatoria es: {sum}\")\n",
        "  return sum\n",
        "\n",
        "sum_impar()                        # llamada de funcion\n",
        "\n",
        "\n",
        "\n",
        "\n",
        "\n",
        "\n"
      ]
    },
    {
      "cell_type": "markdown",
      "id": "a11871f3",
      "metadata": {
        "id": "a11871f3"
      },
      "source": [
        "# Actividad: Diseñe una función para codificar strings y otra para decodificar strings.\n",
        "\n",
        "1. Revise documentación relacionada a los procesos de encriptación, explique brevemente como funcionan.\n",
        "2. Ambas funciones deben tener como entrada un string y una ¨Clave\", la ¨Clave¨ será usada para codificar y decodificar.\n",
        "3. El desarrollo de está actividad esta abierto a multiples soluciones, por favor sea original en su respuesta.\n"
      ]
    },
    {
      "cell_type": "code",
      "execution_count": null,
      "id": "1e7a5371",
      "metadata": {
        "colab": {
          "base_uri": "https://localhost:8080/"
        },
        "id": "1e7a5371",
        "outputId": "7af38318-7786-41ba-a63e-e3ca5c160689"
      },
      "outputs": [
        {
          "name": "stdout",
          "output_type": "stream",
          "text": [
            "abcdefghijklmnopqrstuvwxyzABCDEFGHIJKLMNOPQRSTUVWXYZ!\"#$%&'()*+,-./:;<=>?@[\\]^_`{|}~ \n",
            "\n",
            "Introduzca un texto: hola que tal\n",
            "introduzca una clave: 43\n",
            "\n",
            "El texto cifrado es: \n",
            " Y&#RP(,VP+R# \n",
            "\n",
            " El texto descifrado es: \n",
            "hola que tal\n"
          ]
        }
      ],
      "source": [
        "# Espacio para desarrollar la actividad, si tienes alguna duda o comentario adicional\n",
        "# lo puedes dejar planteado acá.\n",
        "\n",
        "# Funcion para codificar y dcdificar texto utilizando el cifreado cesar\n",
        "\n",
        "import string\n",
        "\n",
        "src_str = string.ascii_letters + string.punctuation + \" \\n\"  # lista con todas las letras mayusculas y minuscula\n",
        "print(src_str)\n",
        "\n",
        "\n",
        "# Funcion para compilar el texto\n",
        "def compile(String,Clave):\n",
        "  new_string = \"\"\n",
        "  dst_str = src_str[Clave:] + src_str[:Clave]      # lista de letras del alfabeto movida n espacios a la derecha\n",
        "\n",
        "  for letter in String:\n",
        "    idx = src_str.index(letter)\n",
        "    new_string += dst_str[idx]            # para cada letra se escoge su contraparte de la ista cifrada\n",
        "  return new_string                       # retorna el texto cifrado\n",
        "\n",
        "\n",
        "# Funcion para descompilar el texto\n",
        "def decompile(String,Clave):\n",
        "  new_string = \"\"\n",
        "  dst_str = src_str[-Clave:] + src_str[:-Clave]       # lista de letras del alfabeto ovida n espacios a la izquierda\n",
        "\n",
        "  for letter in String:\n",
        "    idx = src_str.index(letter)\n",
        "    new_string += dst_str[idx]           # para cada letra se escoge su contraparte de la lista descifrada\n",
        "  return new_string                      # retorna el texto descifrado\n",
        "\n",
        "# consulta al usuario un texto y clave\n",
        "texto = input(\"Introduzca un texto: \")\n",
        "clave = int(input(\"introduzca una clave: \"))\n",
        "\n",
        "# llamado a funciones\n",
        "texto_cifrado = compile(texto,clave)\n",
        "texto_descifrado = decompile(texto_cifrado,clave)\n",
        "\n",
        "# Impresion de texto cifrado y descifrado\n",
        "print(f\"\\nEl texto cifrado es: \\n {texto_cifrado} \\n\\n El texto descifrado es: \\n{texto_descifrado}\")\n",
        "\n",
        "\n",
        "\n"
      ]
    },
    {
      "cell_type": "markdown",
      "id": "a207d974",
      "metadata": {
        "id": "a207d974"
      },
      "source": [
        "\n",
        "# Actividad: Diseñe y codifique una función.\n",
        "\n",
        "1. Diseñe una función que revise el contenido de una carpeta, la mision de esta funcion es revisar todas las carpetas existentes y obtener los nommbres de los archivos contenidos.\n",
        "2. Considere que dentro de cada carpete pueden existir otras carpetas.\n",
        "3. Todas las carpetas deben ser revisadas.\n",
        "4. Con la ejecucion de la siguiente celda se crearan las carpetas y los archivos.\n",
        "5. Es posible que debas considerar el uso de una función recursiva."
      ]
    },
    {
      "cell_type": "code",
      "execution_count": null,
      "id": "b4ac1d5a",
      "metadata": {
        "colab": {
          "base_uri": "https://localhost:8080/"
        },
        "id": "b4ac1d5a",
        "outputId": "ab68fb6e-8ea0-4a38-e07c-c4f08342ed0a"
      },
      "outputs": [
        {
          "name": "stdout",
          "output_type": "stream",
          "text": [
            "Carpeta_principal\n",
            "Carpeta_principal/folder_0\n",
            "Carpeta_principal/folder_8\n",
            "Carpeta_principal/folder_9\n",
            "Carpeta_principal/folder_12\n",
            "Carpeta_principal/folder_0\n",
            "Carpeta_principal/folder_0/folder_2\n",
            "Carpeta_principal/folder_0/folder_2\n",
            "Carpeta_principal/folder_0/folder_2/folder_7\n",
            "Carpeta_principal/folder_0/folder_2/folder_7\n",
            "Carpeta_principal/folder_0/folder_2/folder_7/folder_4\n",
            "Carpeta_principal/folder_0/folder_2/folder_7/folder_4\n",
            "Carpeta_principal/folder_8\n",
            "Carpeta_principal/folder_9\n",
            "Carpeta_principal/folder_12\n"
          ]
        }
      ],
      "source": [
        "import os\n",
        "import random\n",
        "\n",
        "def guardar_archivo(text_content, file_path):\n",
        "    with open(file_path, 'w') as file:\n",
        "        # Write the text content to the file\n",
        "        file.write(text_content)\n",
        "\n",
        "\n",
        "if os.path.exists(\"Carpeta_principal\"):\n",
        "    os.system(f'rm -r \"Carpeta_principal\"')\n",
        "\n",
        "os.mkdir(\"Carpeta_principal\")\n",
        "# Inicialización\n",
        "\n",
        "\n",
        "\n",
        "def crear_carpetas(ruta_actual):\n",
        "    global numeracion_del_archivo, numero_de_sub_carpetas\n",
        "    numero_de_archivos_o_carpetas = random.randint(0,15) # genración de numero aleatorio entre 0 y 15.\n",
        "    print(ruta_actual)\n",
        "    if numero_de_sub_carpetas < max_carpetas:\n",
        "        for n in range(0, numero_de_archivos_o_carpetas):\n",
        "\n",
        "            numero_aleatorio_2 = random.randint(0,2) # número aleatoria entre 0 y 1.\n",
        "            if numero_aleatorio_2 == 0:\n",
        "                os.mkdir(ruta_actual +'/'+ 'folder_{}'.format(n) )\n",
        "                print(ruta_actual +'/'+ 'folder_{}'.format(n))\n",
        "            else:\n",
        "                contenido_del_archivo = \"Contenido_{}\".format(numeracion_del_archivo)\n",
        "                ruta_del_archivo = ruta_actual + '/' + \"archivo_{}.text\".format(numeracion_del_archivo)\n",
        "#                 print(\"ruta_del_archivo: \", ruta_del_archivo)\n",
        "                guardar_archivo(contenido_del_archivo, ruta_del_archivo)\n",
        "                numeracion_del_archivo += 1\n",
        "\n",
        "        lista_de_nuevas_carpetas = [f.path for f in os.scandir(ruta_actual) if f.is_dir()] # Busqueda de nueva carpeta\n",
        "\n",
        "        numero_de_sub_carpetas += 1\n",
        "        for carpeta in lista_de_nuevas_carpetas:\n",
        "            crear_carpetas(carpeta)\n",
        "\n",
        "max_carpetas = 4\n",
        "numeracion_del_archivo = 0\n",
        "numero_de_sub_carpetas = 0\n",
        "ruta_actual = \"Carpeta_principal\"\n",
        "crear_carpetas(ruta_actual)"
      ]
    },
    {
      "cell_type": "code",
      "execution_count": 68,
      "id": "a4f925a4",
      "metadata": {
        "colab": {
          "base_uri": "https://localhost:8080/"
        },
        "id": "a4f925a4",
        "outputId": "6fb558c5-33ee-4722-81a2-be7c53052044"
      },
      "outputs": [
        {
          "name": "stdout",
          "output_type": "stream",
          "text": [
            "Carpeta_principal/\n",
            "\n",
            " - archivo_0.text\n",
            " - archivo_1.text\n",
            " - archivo_2.text\n",
            " - archivo_3.text\n",
            " - archivo_4.text\n",
            " - archivo_5.text\n",
            " - archivo_6.text\n",
            " - archivo_7.text\n",
            " - archivo_8.text\n",
            " -> folder_0/\n",
            "\t - archivo_10.text\n",
            "\t - archivo_11.text\n",
            "\t - archivo_12.text\n",
            "\t - archivo_13.text\n",
            "\t - archivo_14.text\n",
            "\t - archivo_15.text\n",
            "\t - archivo_16.text\n",
            "\t - archivo_9.text\n",
            "\t -> folder_2/\n",
            "\t\t - archivo_17.text\n",
            "\t\t - archivo_18.text\n",
            "\t\t - archivo_19.text\n",
            "\t\t - archivo_20.text\n",
            "\t\t - archivo_21.text\n",
            "\t\t - archivo_22.text\n",
            "\t\t - archivo_23.text\n",
            "\t\t -> folder_7/\n",
            "\t\t\t - archivo_24.text\n",
            "\t\t\t - archivo_25.text\n",
            "\t\t\t - archivo_26.text\n",
            "\t\t\t - archivo_27.text\n",
            "\t\t\t - archivo_28.text\n",
            "\t\t\t - archivo_29.text\n",
            "\t\t\t - archivo_30.text\n",
            "\t\t\t - archivo_31.text\n",
            "\t\t\t - archivo_32.text\n",
            "\t\t\t - archivo_33.text\n",
            "\t\t\t - archivo_34.text\n",
            "\t\t\t -> folder_4/\n",
            " -> folder_12/\n",
            " -> folder_8/\n",
            " -> folder_9/\n"
          ]
        }
      ],
      "source": [
        "# Celda para desarrollar\n",
        "\n",
        "import os\n",
        "\n",
        "\n",
        "def sort_carpeta(ruta):\n",
        "\n",
        "  contenido = os.listdir(ruta)    # contenido de la ruta\n",
        "\n",
        "  # Listas vacias auxiliares\n",
        "  archivos = []\n",
        "  carpetas = []\n",
        "\n",
        "  # revisar en la lista principal los elementos\n",
        "  for n in contenido:\n",
        "\n",
        "      if os.path.isfile(ruta):      # Verificar si el elemento es un archivo para anadirlo en su lista auxiliar\n",
        "          archivos.append(n)\n",
        "\n",
        "      if os.path.isdir(ruta):       # Verificar si el elemento es una carpeta para anadirlo a su lista auxiliar\n",
        "          carpetas.append(n)\n",
        "\n",
        "  # Ordenar las listas de archivos y carpetas\n",
        "  archivos = sorted(archivos)\n",
        "  carpetas = sorted(carpetas)\n",
        "\n",
        "  # unir las listas\n",
        "  contenido = archivos + carpetas\n",
        "\n",
        "  return contenido     # retorna la lista ordenada\n",
        "\n",
        "\n",
        "\n",
        "\n",
        "# funcion para revisar carpetas de manera recursiva\n",
        "def rev_carpeta(ruta, nivel=0):\n",
        "\n",
        "    contenido = os.listdir(ruta)        # Obtener lista de contenido de la ruta\n",
        "    contenido = sort_carpeta(ruta)      # Ordenar la lista\n",
        "    tab = '\\t' * nivel                  # Tabulaciones para cada nivel de los folder\n",
        "\n",
        "    if nivel == 0:                      # Impresion del nombre de la carpeta madre\n",
        "        print(f'{os.path.basename(ruta)}/\\n')\n",
        "\n",
        "\n",
        "    # Imprimir archivos y carpetas de manera ordenada\n",
        "    for n in contenido:\n",
        "        n_ruta = os.path.join(ruta, n)      # ruta completa de el elemento evaluado para poder usar la funcion os.path.isdir()\n",
        "\n",
        "\n",
        "        if os.path.isdir(n_ruta):           # Diferenciar entre directorio y archivo\n",
        "            print(f'{tab} -> {n}/')             # Impresion de la carpeta con su tabulacion\n",
        "            rev_carpeta(n_ruta, nivel + 1)      # Recursividad para subdirectorios\n",
        "        else:\n",
        "            print(f'{tab} - {n}')               # Impresion del archivo con su tabulacion\n",
        "\n",
        "\n",
        "ruta = '/content/Carpeta_principal'      # Ruta de la carpeta principal a revisar\n",
        "\n",
        "# Iniciar la revisión de carpetas desde la carpeta principal\n",
        "rev_carpeta(ruta)\n",
        "\n"
      ]
    },
    {
      "cell_type": "markdown",
      "id": "26a6bb9e",
      "metadata": {
        "id": "26a6bb9e"
      },
      "source": [
        "# Actividad: Crear diccionarios y guardarlos como archivo JSON.\n",
        "\n",
        "De la unidad 11 sección 4.6 revise el ejemplo mostrado.\n",
        "\n",
        "Genera un diccionario, sobre la información que deseas guardar como base de datos, desarrollo el código necesario para generar el archivo JSON, y también el código para cargar la información del archivo JSON.\n"
      ]
    },
    {
      "cell_type": "code",
      "execution_count": 69,
      "id": "6670eace",
      "metadata": {
        "id": "6670eace"
      },
      "outputs": [],
      "source": [
        "# Espacio para desarrollar el código siguiendo las instrucciones.\n",
        "\n",
        "# este es una actividad que se repite, estaba tambien en la actividad 2, en la misma lo realice de esta manera\n",
        "\n",
        "import json\n",
        "\n",
        "base_de_datos = [\n",
        "    {\"nombre\": \"Juan\", \"id\": 1, \"edad\": 20},\n",
        "    {\"nombre\": \"María\", \"id\": 2, \"edad\": 22},\n",
        "    {\"nombre\": \"Carlos\", \"id\": 3, \"edad\": 21}\n",
        "]\n",
        "\n",
        "# Creacion del json_data como archivo\n",
        "\n",
        "with open('book.json','w') as f:\n",
        "  json.dump(base_de_datos, f, indent = '\\t')\n",
        "\n"
      ]
    },
    {
      "cell_type": "markdown",
      "id": "fbfb4985",
      "metadata": {
        "id": "fbfb4985"
      },
      "source": [
        "# Actividad: Uso de la funcion Lambda.\n",
        "\n",
        "## Instrucciones\n",
        "\n",
        "1. Escriba una función regular donde se realice una operación.\n",
        "2. Escriba la misma función donde use la expresión lambda.\n",
        "3. Explica brevemente las ventajas de usar la función Lambda.\n"
      ]
    },
    {
      "cell_type": "code",
      "execution_count": 78,
      "id": "fc5b1a43",
      "metadata": {
        "colab": {
          "base_uri": "https://localhost:8080/"
        },
        "id": "fc5b1a43",
        "outputId": "879dbed0-bc84-4299-f1fc-d7959112acc0"
      },
      "outputs": [
        {
          "name": "stdout",
          "output_type": "stream",
          "text": [
            "El resultado de la funcion con def es 1.4422495703074083, con lambda es 1.4422495703074083\n"
          ]
        }
      ],
      "source": [
        "# Espacio para desarrollar el código siguiendo las instrucciones\n",
        "\n",
        "# funcion para sacar la raiz cubica\n",
        "def cubic (x):\n",
        "  return x**(1/3)\n",
        "\n",
        "# Para realizarlo con lambda seria\n",
        "num = 3\n",
        "normal_cubic = cubic(num)\n",
        "lambda_cubic = (lambda x: x**(1/3))(num)\n",
        "\n",
        "print(f'El resultado de la funcion con def es {normal_cubic}, con lambda es {lambda_cubic}')\n",
        "\n",
        "\n",
        "\n",
        "# considero que la funcionalidad de lambda es hacer funciones simples de manera corta. supongo que evitamos tener mas espacio en memoria por funciones definidas\n",
        "\n",
        "\n"
      ]
    },
    {
      "cell_type": "markdown",
      "id": "98938d2d",
      "metadata": {
        "id": "98938d2d"
      },
      "source": [
        "# Actividad: Usar la función map para duplicar el valor de cada uno de los elementos contenidos.\n",
        "\n",
        "## Instrucciones\n",
        "\n",
        "1. Describa brevemente el funcionamiento y las ventajas de usar la función map\n",
        "2. Escriba el código en el siguiente espacio."
      ]
    },
    {
      "cell_type": "code",
      "execution_count": 82,
      "id": "a35ef1b7",
      "metadata": {
        "colab": {
          "base_uri": "https://localhost:8080/"
        },
        "id": "a35ef1b7",
        "outputId": "4fe5c614-fb6e-494f-9d2b-35659e1d7a3c"
      },
      "outputs": [
        {
          "name": "stdout",
          "output_type": "stream",
          "text": [
            "[4, 6, 8]\n"
          ]
        }
      ],
      "source": [
        "# Espacio para desarrollar el código.\n",
        "\n",
        "x = [2, 3, 4]\n",
        "\n",
        "res = list(map(lambda num: num*2, x))\n",
        "\n",
        "# en este caso con el uso de map y lambda me he ahorrado tener que hacer una funcion para duplicar uno por uno los elementos de la lista.\n",
        "# map se encarga de iterar una funcion, en este caso esta iterando el duplicar cada elemento de la lista dada\n",
        "\n",
        "print(res)\n",
        "\n",
        "\n",
        "\n",
        "\n",
        "\n",
        "\n"
      ]
    },
    {
      "cell_type": "code",
      "execution_count": null,
      "id": "Pr9vaevydMql",
      "metadata": {
        "id": "Pr9vaevydMql"
      },
      "outputs": [],
      "source": []
    }
  ],
  "metadata": {
    "colab": {
      "provenance": []
    },
    "kernelspec": {
      "display_name": "Python 3 (ipykernel)",
      "language": "python",
      "name": "python3"
    },
    "language_info": {
      "codemirror_mode": {
        "name": "ipython",
        "version": 3
      },
      "file_extension": ".py",
      "mimetype": "text/x-python",
      "name": "python",
      "nbconvert_exporter": "python",
      "pygments_lexer": "ipython3",
      "version": "3.10.12"
    }
  },
  "nbformat": 4,
  "nbformat_minor": 5
}
