{
 "cells": [
  {
   "cell_type": "markdown",
   "metadata": {},
   "source": [
    "# Bases de la programacion\n"
   ]
  },
  {
   "cell_type": "markdown",
   "metadata": {},
   "source": [
    "### Tipo de escrituras de variable\n",
    "\n",
    "1. snake_case   :   mi_variable\n",
    "2. camelCase    :   miVariable\n",
    "3. PascalCase   :   MiVariable\n",
    "\n",
    "\n",
    "### Contabilizacion en programacion\n",
    "\n",
    "Siempre se cuenta desde 0 en programacion:\n",
    "\n",
    "0,1,2,3,4,5,6,7,8,9...\n",
    "\n",
    "\n",
    "### Tipos de programacion\n",
    "\n",
    "* Backend   :   hace el codigo en texto y ve resultados en la consola.\n",
    "* Frontend  :   realiza toda la UI (User Interface), interfaz visual.\n",
    "* Fullstack :   Realiza tanto backend como frontend\n",
    "\n",
    "Python se suele trabajar en backend, para frontend suele usarse lenguajes como java.\n",
    "\n",
    "\n",
    "### Comentarios\n",
    "\n",
    "Como buenos programadores los comentarios son esenciales, sirve para saber que hace un codigo.\n",
    "los comentarios son ignorados por el compilador.\n",
    "\n",
    "en python se utiliza \"#\" para un comentario de una sola linea, para comentar varias lineas se utiliza ''' '''\n",
    "\n"
   ]
  },
  {
   "cell_type": "code",
   "execution_count": 1,
   "metadata": {},
   "outputs": [
    {
     "data": {
      "text/plain": [
       "' esto \\n tambien \\n es un comentario'"
      ]
     },
     "execution_count": 1,
     "metadata": {},
     "output_type": "execute_result"
    }
   ],
   "source": [
    "# Esto es un comentario\n",
    "''' esto tambien \n",
    "es un comentario '''\n",
    "\n",
    "''' esto \\n tambien \\n es un comentario'''"
   ]
  },
  {
   "cell_type": "markdown",
   "metadata": {},
   "source": [
    "## Variable\n",
    "\n",
    "Es un espacio de memoria donde podemos guardar datos. en cualquier lenguaje de programacion se pueden hacer 3 cosas con los datos.\n",
    "* crear, modificar, eliminar\n",
    "\n",
    "las variables tienen 3 propiedades:\n",
    "* nombre: mi_variable\n",
    "* direccion en memoria: 0xf2345da4\n",
    "* valor: \"papas\"\n",
    "\n",
    "## Tipos de datos\n",
    "\n",
    "int -> numero entero : 2,3,7,8...\n",
    "\n",
    "float -> numero decimal : 3.14, 5.46\n",
    "\n",
    "* python siempre convienrte el resultado al tipo de dato mas completo, ejemplo\n",
    "    \n",
    "str -> string -> cadena de caracteres o cadena de texto\n",
    "* los strings siempre se colocan entre comillas:\n",
    "\"casa\", \"hola mundo\", \"#,&,*,(,)\",\"6\",\"4\"\n",
    "\n",
    "\n",
    "bool -> booleano -> valor logico\n",
    "\n",
    "True -> verdadero -> correcto -> existe -> si -> 1\n",
    "False -> falso -> erroneo -> no existe -> no -> 0\n",
    "\n",
    "\n",
    "\n",
    "#### Lista\n",
    "\n",
    "list -> lista\n",
    "\n",
    "lista_mercado = [\"papas\", \"leche\", \"pan\", 3]\n",
    "\n",
    "las listas tienen dos cosas importantes:\n",
    "* index -> indice -> indicador que me dice donde esta el dato dentro de la lista\n",
    "* value -> el valor real, o lo que se esta guardando"
   ]
  },
  {
   "cell_type": "code",
   "execution_count": 6,
   "metadata": {},
   "outputs": [
    {
     "name": "stdout",
     "output_type": "stream",
     "text": [
      "dwight\n"
     ]
    }
   ],
   "source": [
    "#ejemplo:\n",
    "\n",
    "estudiante1 = [\"dwight\",\"sutherland\",20,\"panama\",\"12343346\"]\n",
    "\n",
    "print(estudiante1[0])"
   ]
  },
  {
   "cell_type": "markdown",
   "metadata": {},
   "source": [
    "\n",
    "\n",
    "#### Diccionarios\n",
    "\n",
    "* index -> key -> da el acceso al valor que quiero \n",
    "* value\n",
    "\n",
    "diccionario = {\"key\":\"value\"}\n"
   ]
  },
  {
   "cell_type": "code",
   "execution_count": 7,
   "metadata": {},
   "outputs": [
    {
     "name": "stdout",
     "output_type": "stream",
     "text": [
      "dwight\n"
     ]
    }
   ],
   "source": [
    "#ejemplo:\n",
    "\n",
    "dic_estudiante1 = {\"nombre\":\"dwight\",\"apellido\":\"sutherland\",\"edad\":20,\"ciudad\":\"panama\",\"id\":\"23454567\"}\n",
    "print(dic_estudiante1[\"nombre\"])"
   ]
  },
  {
   "cell_type": "markdown",
   "metadata": {},
   "source": [
    "### bunch\n",
    "Es un diccionario de diccionarios\n",
    "\n",
    "\n",
    "### tupla\n",
    "\n",
    "coordenadas = [1,4] ->  se puede modificar, y agregar en una lista\n",
    "coordenadas = (1,4) ->  no se puede modificar, es una dupla"
   ]
  },
  {
   "cell_type": "markdown",
   "metadata": {},
   "source": [
    "### Operadores algebraicos\n",
    "\n",
    "1. suma                 +\n",
    "2. resta                -\n",
    "3. multiplicacion       *\n",
    "4. division             /\n",
    "5. modulo(residuo)      %\n",
    "6. division exacta      //  # no redondea\n",
    "7. potencia             **\n",
    "8. raiz cuadrada        **(1/2)\n"
   ]
  },
  {
   "cell_type": "markdown",
   "metadata": {},
   "source": [
    "### Operadores logicos\n",
    "\n",
    "1. mayor            >\n",
    "2. menor            <\n",
    "3. mayor o igual    >=\n",
    "4. menor o igual    <=\n",
    "5. igual            ==\n",
    "6. diferente        !!\n",
    "\n",
    "Retornan True or False\n",
    "\n",
    "\n",
    "### Operadores logicos\n",
    "\n",
    "NOT -> NO -> ! -> invierte\n",
    "AND -> Y -> & -> cuando 2 condiciones si o si se tienen que cumplir\n",
    "OR  -> Ó -> || -> cuando cualquier opcion me sirve \n",
    "\n",
    "True = not False\n",
    "\n",
    "\n",
    "Ejemplo:\n",
    "\n",
    "Necesito hacer un login para instagram\n",
    "\n",
    "usuario == True AND password == True    # las dos condiciones se deben cumplir\n"
   ]
  },
  {
   "cell_type": "markdown",
   "metadata": {},
   "source": [
    "### Identacion\n"
   ]
  },
  {
   "cell_type": "markdown",
   "metadata": {},
   "source": [
    "## Toma de desiciones\n",
    "\n",
    "Pasos para resolver un problema:\n",
    "\n",
    "1. Necesito saber que me estan pidiendo     ->      salida\n",
    "2. que necesito para lograrlo               ->      proceso\n",
    "3. que necesito pararealizarlo              ->      entradas\n",
    "\n",
    "\n",
    "\n",
    "\n",
    "Ejemplo:\n",
    "\n",
    "Problema: no me escuchan\n",
    "\n",
    "1. me escuchen\n",
    "2. revisar el audio\n",
    "3. ver el estado del micro en zoom\n",
    "\n",
    "\n",
    "Toma de decisiones:\n",
    "Planteo una pregunta de si o no y actuo segun la respuesta\n"
   ]
  },
  {
   "cell_type": "code",
   "execution_count": 9,
   "metadata": {},
   "outputs": [
    {
     "name": "stdout",
     "output_type": "stream",
     "text": [
      "Donde esta la caja?\n",
      "caja en la parte inferior\n"
     ]
    }
   ],
   "source": [
    "# sintaxis en python\n",
    "\n",
    "'''\n",
    "if condicion == respuesta:\n",
    "    proceso\n",
    "elsif condicion == respuesta:\n",
    "    proceso\n",
    "else:                           # opcion de descarte\n",
    "    proceso\n",
    "'''\n",
    "\n",
    "# ejemplo\n",
    "\n",
    "caja = \"centro\"\n",
    "\n",
    "print(\"Donde esta la caja?\")\n",
    "\n",
    "if caja == \"arriba\":\n",
    "    print(\"caja en la parte superior\")\n",
    "elif caja == \"centro\":\n",
    "    print(\"caja en la parte inferior\")\n",
    "elif caja == \"abajo\":\n",
    "    print(\"caja en la parte inferior\")\n",
    "else:\n",
    "    print(\"hay un error\")                   # una buena practica es dejar el else para descartar errores\n"
   ]
  },
  {
   "cell_type": "markdown",
   "metadata": {},
   "source": [
    "### Entrada y salida de datos\n",
    "\n",
    "entrada -> lo que pido al usuario\n",
    "\n",
    "salida -> lo que muestro en pantalla\n",
    "\n",
    "\n",
    "\\t  : mostrar tabulacion\n",
    "\\n  : mostrar salto de linea"
   ]
  },
  {
   "cell_type": "code",
   "execution_count": 11,
   "metadata": {},
   "outputs": [],
   "source": [
    "#entrada\n",
    "\n",
    "\n",
    "nombre = input(\"\\tcual es tu nombre? \\n\")     # input es para ingresar datos, permite mostrar un mensaje\n",
    "\n",
    "# python siempre toma las entradas como string"
   ]
  },
  {
   "cell_type": "markdown",
   "metadata": {},
   "source": [
    "### conversores de datos\n",
    "\n",
    "int()   -> convierte a entero\n",
    "float() -> convierte a decimal\n",
    "str()   -> convierte a string\n",
    "bool()  -> convierte a bool\n",
    "list()  -> convierte a lista\n",
    "\n",
    "\n",
    "### salida de datos\n",
    "\n",
    "print() -> imprime en consola "
   ]
  },
  {
   "cell_type": "code",
   "execution_count": 12,
   "metadata": {},
   "outputs": [
    {
     "name": "stdout",
     "output_type": "stream",
     "text": [
      "hola mundo\n",
      "hola tmundo\n",
      "hola tmundo\n",
      "la temperatura en panama es de : 24 c\n",
      "la temperatura en panama es: 24 c\n",
      "la temperatura de panama es: 24 c\n"
     ]
    }
   ],
   "source": [
    "# salida\n",
    "\n",
    "texto = \"tmundo\"\n",
    "print(\"hola mundo\")\n",
    "print(\"hola\",texto)\n",
    "print(\"hola \"+texto)\n",
    "\n",
    "temp_panama = \"24 c\"\n",
    "\n",
    "print(\"la temperatura en panama es de :\",temp_panama)\n",
    "\n",
    "print(\"la temperatura en panama es: {}\".format(temp_panama))\n",
    "print(f\"la temperatura de panama es: {temp_panama}\") # la f al principio de .format()\n"
   ]
  }
 ],
 "metadata": {
  "kernelspec": {
   "display_name": "Python 3",
   "language": "python",
   "name": "python3"
  },
  "language_info": {
   "codemirror_mode": {
    "name": "ipython",
    "version": 3
   },
   "file_extension": ".py",
   "mimetype": "text/x-python",
   "name": "python",
   "nbconvert_exporter": "python",
   "pygments_lexer": "ipython3",
   "version": "3.9.7"
  }
 },
 "nbformat": 4,
 "nbformat_minor": 2
}
