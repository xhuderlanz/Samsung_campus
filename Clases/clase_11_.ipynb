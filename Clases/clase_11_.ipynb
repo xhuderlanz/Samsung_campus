{
 "cells": [
  {
   "cell_type": "markdown",
   "metadata": {},
   "source": [
    "# Clase 11: \n",
    "\n",
    "## Recursividad:\n",
    "\n",
    "Los bucles al usar muchos numeros pueden empeorar el rendimiento del programa\n",
    "para evitar esto se suele usar recursividad"
   ]
  },
  {
   "cell_type": "code",
   "execution_count": 8,
   "metadata": {},
   "outputs": [
    {
     "name": "stdout",
     "output_type": "stream",
     "text": [
      "El cambio de 870 es [500, 100, 100, 100, 50, 10, 10] con 7 monedas.\n"
     ]
    }
   ],
   "source": [
    "# Enfoque de Greedy\n",
    "\n",
    "# El enfoque de greedy es un algoritmo que busca la solución óptima en cada paso, sin preocuparse por el futuro.\n",
    "# En otras palabras, el algoritmo toma la mejor decisión local en cada paso con la esperanza de encontrar la solución\n",
    "# óptima global.\n",
    "\n",
    "# Pasos a tener en cuenta\n",
    "\n",
    "# 1. Definir la solución óptima.\n",
    "# 2. Definir la estructura de datos.\n",
    "# 3. Definir la función objetivo.\n",
    "\n",
    "\n",
    "# Ejemplo de cambio de monedas\n",
    "\n",
    "def coin_change(coins, amount):\n",
    "    changes = []\n",
    "    largest = 0\n",
    "    \n",
    "    while amount > 0:\n",
    "        if coins[largest] <= amount:         # Verifica si la primera moneda cabe en amount\n",
    "            changes.append(coins[largest])  # Agrega la moneda a la lista de cambios\n",
    "            amount -= coins[largest]        # Resta el valor de la moneda a amount\n",
    "        else:\n",
    "            largest += 1                    # Si la moneda no cabe, pasa a la siguiente\n",
    "    return changes\n",
    "\n",
    "\n",
    "\n",
    "\n",
    "# establezco la lista de elementos que componen la solución\n",
    "\n",
    "coins = [500, 100, 50, 10]              # monedas disponibles\n",
    "amount = int(input(\"Ingrese la cantidad de dinero que desea cambiar: \"))\n",
    "print(f\"El cambio de {amount} es {coin_change(coins, amount)} con {len(coin_change(coins, amount))} monedas.\")\n"
   ]
  },
  {
   "cell_type": "code",
   "execution_count": 11,
   "metadata": {},
   "outputs": [
    {
     "name": "stdout",
     "output_type": "stream",
     "text": [
      "Las personas habilitadas para ocupar la sala segun su id son: [0, 1, 4, 5]\n"
     ]
    }
   ],
   "source": [
    "# Ejemplo de Seleccion de disponibilidad de salas\n",
    "\n",
    "# Construir una solucion que permita tener la mayor cantidad de reuniones para una sola sala\n",
    "# dependiendo de las horas de inicio y fin de cada reunión.\n",
    "\n",
    "def activity_selection(start, finish):\n",
    "    result = []\n",
    "    i = 0\n",
    "    result.append(i)\n",
    "    for j in range(1,len(start)):\n",
    "        if finish[i] <= start[j]:\n",
    "            result.append(j)\n",
    "            i = j\n",
    "    return result\n",
    "    \n",
    "\n",
    "\n",
    "\n",
    "# Establezco la lista de elementos que componen la solución\n",
    "\n",
    "# el orden de los elementos es importante para el algoritmo greedy\n",
    "start =  [1, 3, 2, 0, 5, 7, 5]\n",
    "finish = [2, 4, 5, 6, 6, 9, 9]\n",
    "\n",
    "print(f\"Las personas habilitadas para ocupar la sala segun su id son: {activity_selection(start, finish)}\")\n",
    "\n"
   ]
  },
  {
   "cell_type": "markdown",
   "metadata": {},
   "source": []
  }
 ],
 "metadata": {
  "kernelspec": {
   "display_name": "Python 3",
   "language": "python",
   "name": "python3"
  },
  "language_info": {
   "codemirror_mode": {
    "name": "ipython",
    "version": 3
   },
   "file_extension": ".py",
   "mimetype": "text/x-python",
   "name": "python",
   "nbconvert_exporter": "python",
   "pygments_lexer": "ipython3",
   "version": "3.9.7"
  }
 },
 "nbformat": 4,
 "nbformat_minor": 2
}
