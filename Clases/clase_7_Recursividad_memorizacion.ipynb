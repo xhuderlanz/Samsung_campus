{
 "cells": [
  {
   "cell_type": "markdown",
   "metadata": {},
   "source": [
    "# Clase 7: Recursividad y memoizacion\n",
    "\n",
    "## Recursividad:\n",
    "\n",
    "Los bucles al usar muchos numeros pueden empeorar el rendimiento del programa\n",
    "para evitar esto se suele usar recursividad"
   ]
  },
  {
   "cell_type": "code",
   "execution_count": 6,
   "metadata": {},
   "outputs": [
    {
     "name": "stdout",
     "output_type": "stream",
     "text": [
      "Este es el ejemplo sin recursividad: \n",
      "\n",
      "1\n",
      "2\n",
      "3\n",
      "4\n",
      "5\n",
      "\n",
      "Este es el ejemplo con recursividad: \n",
      "\n",
      "1\n",
      "2\n",
      "3\n",
      "4\n",
      "5\n"
     ]
    }
   ],
   "source": [
    "\n",
    "\n",
    "# Ejemplo sin recursividad\n",
    "\n",
    "def imprimir(i):\n",
    "    if i > 0:\n",
    "        print(i)\n",
    "        \n",
    "n = 5\n",
    "print('Este es el ejemplo sin recursividad: \\n')\n",
    "for i in range(n+1):\n",
    "    imprimir(i)\n",
    "    \n",
    "    \n",
    "    \n",
    "# Ejemplo con recursividad\n",
    "\n",
    "def imprimir2(i):\n",
    "    if i > 0:\n",
    "        imprimir2(i-1)\n",
    "        print(i)    \n",
    "        \n",
    "n = 5\n",
    "print('\\nEste es el ejemplo con recursividad: \\n')\n",
    "imprimir2(n)\n"
   ]
  },
  {
   "cell_type": "markdown",
   "metadata": {},
   "source": [
    "## Memoizacion\n",
    "\n",
    "Es la memoria de la maquina, lo que realiza es guardar la direccion de memoria de la funcion y la variable para que no se pierda la informacion.\n",
    "\n",
    "Es una tecnica de programacion que consiste en almacenar el resultado de una funcion para evitar\n",
    "calcularlo de nuevo. Se utiliza para optimizar el rendimiento de un programa.\n",
    "\n",
    "Esto se hcae guardando el resultado de una funcion en una tabla, y cuando se vuelve a llamar a la funcion\n",
    "con los mismos parametros, se devuelve el resultado almacenado en la tabla.\n",
    "\n",
    "La memoizacion se puede aplicar a la funcion factorial, especialmente cuando se calculan factoriales\n",
    "grandes, ya que el calculo de factoriales grandes es muy costoso."
   ]
  },
  {
   "cell_type": "code",
   "execution_count": 13,
   "metadata": {},
   "outputs": [
    {
     "name": "stdout",
     "output_type": "stream",
     "text": [
      "\n",
      "120\n"
     ]
    }
   ],
   "source": [
    "# Funcion factorial\n",
    "\n",
    "'''\n",
    "5! = 5 * 4 * 3 * 2 * 1 = 120\n",
    "5! = 5 * 4!\n",
    "4! = 4 * 3!\n",
    "3! = 3 * 2!\n",
    "2! = 2 * 1!\n",
    "1! = 1\n",
    "\n",
    "'''\n",
    "\n",
    "# ejemplo para compreder la definicion de la funcion del guardade de memoria\n",
    "\n",
    "\n",
    "# factorial memoizado manualmente\n",
    "\n",
    "# diccionario para guardar los resultados de los factoriales ya calculados\n",
    "# los factoriales calculados los guardare en __dict__\n",
    "\n",
    "# en python, tdo objeto (incluidas las funciones) tiene un atributo __dict__ que\n",
    "# es un diccionario que guarda los atributos del objeto\n",
    "\n",
    "def factorial(n):\n",
    "    if n in factorial.__dict__:         # Esta linea verifica si el factorial de n ya fue calculado\n",
    "        return factorial.__dict__[n]\n",
    "    \n",
    "    if n>1:\n",
    "        fac = n * factorial(n-1)\n",
    "    else:\n",
    "        fac = 1\n",
    "        \n",
    "    factorial.__dict__[n] = fac\n",
    "    return fac\n",
    "\n",
    "\n",
    "\n",
    "\n",
    "n = int(input('Ingrese un numero: '))\n",
    "print(f'\\n{factorial(n)}')\n",
    "\n",
    "\n",
    "# Ejemplo con diccionario manual\n",
    "\n",
    "def factorial_m(n, memo = {}):\n",
    "    if n in memo:\n",
    "        return memo[n]\n",
    "    \n",
    "    if n>1:\n",
    "        fac = n * factorial_m(n-1, memo)\n",
    "    else:\n",
    "        fac = 1\n",
    "        \n",
    "    memo[n] = fac\n",
    "    return fac"
   ]
  },
  {
   "cell_type": "markdown",
   "metadata": {},
   "source": [
    "# Librerias utiles que utilizaremos\n",
    "\n",
    "Para llamar librerias de python, se debe de tener instalado el modulo en el sistema\n",
    "luego para hacer el llamado se debe de hacer de la siguiente manera:\n",
    "\n",
    "    import modulo\n",
    "\n",
    "    tambien se puede como\n",
    "\n",
    "    import modulo as nick\n",
    "\n",
    "para llamar un metodo exclusivo de un modulo se debe de hacer de la siguiente manera:\n",
    "\n",
    "    from modulo import metodo\n",
    "\n",
    "\n",
    "\n",
    "## Lista de librerias utiles\n",
    "\n",
    "- math\n",
    "- random\n",
    "- time\n",
    "- datetime (Se puede operar)\n",
    "- os\n",
    "- pandas"
   ]
  },
  {
   "cell_type": "code",
   "execution_count": 14,
   "metadata": {},
   "outputs": [
    {
     "name": "stdout",
     "output_type": "stream",
     "text": [
      "0.8939966636005579\n",
      "-0.4480736161291701\n",
      "120\n"
     ]
    }
   ],
   "source": [
    "from math import sin, cos as c, factorial as f\n",
    "\n",
    "print(sin(90))\n",
    "print(c(90))\n",
    "print(f(5))"
   ]
  },
  {
   "cell_type": "code",
   "execution_count": null,
   "metadata": {},
   "outputs": [],
   "source": [
    "import math\n",
    "\n",
    "print(math.sin(90))\n",
    "print(math.cos(90))\n",
    "print(math.factorial(5))"
   ]
  },
  {
   "cell_type": "code",
   "execution_count": 15,
   "metadata": {},
   "outputs": [
    {
     "name": "stdout",
     "output_type": "stream",
     "text": [
      "42\n",
      "goblin\n"
     ]
    }
   ],
   "source": [
    "import random\n",
    "\n",
    "print(random.randint(1, 100)) # numero aleatorio entre 1 y 100\n",
    "\n",
    "list_enemys = ['goblin', 'orc', 'troll', 'dragon']\n",
    "\n",
    "enemy = random.choice(list_enemys)\n",
    "print(enemy)"
   ]
  },
  {
   "cell_type": "code",
   "execution_count": 17,
   "metadata": {},
   "outputs": [
    {
     "name": "stdout",
     "output_type": "stream",
     "text": [
      "cronometro: 0\n",
      "cronometro: 1\n",
      "cronometro: 2\n",
      "cronometro: 3\n",
      "cronometro: 4\n",
      "cronometro: 5\n",
      "cronometro: 6\n",
      "cronometro: 7\n",
      "cronometro: 8\n",
      "cronometro: 9\n",
      "Tue Feb  6 20:23:55 2024\n",
      "gmtime: time.struct_time(tm_year=2024, tm_mon=2, tm_mday=7, tm_hour=1, tm_min=23, tm_sec=55, tm_wday=2, tm_yday=38, tm_isdst=0), strftime: Wed, 07 Feb 2024 01:23:55 +0000, localtime: time.struct_time(tm_year=2024, tm_mon=2, tm_mday=6, tm_hour=20, tm_min=23, tm_sec=55, tm_wday=1, tm_yday=37, tm_isdst=0)\n"
     ]
    }
   ],
   "source": [
    "import time\n",
    "\n",
    "# para casos en lso que se necesite conectarse a un dispositivo que peuda perder conexion a internet\n",
    "# se puede usar un ping para ir revisando periodicamente que este conectado\n",
    "# en caso de desconexion sepuede aproximar el tiempo de reconexion \n",
    "\n",
    "# protocolo de desconexion DTN (Delay Tolerant Network)\n",
    "\n",
    "for i in range(10):\n",
    "    print(f'cronometro: {i}')\n",
    "    time.sleep(1)\n",
    "    \n",
    "print(time.ctime())\n",
    "\n",
    "from time import gmtime, strftime, localtime\n",
    "\n",
    "print(f'gmtime: {gmtime()}, strftime: {strftime(\"%a, %d %b %Y %H:%M:%S +0000\", gmtime())}, localtime: {localtime()}')"
   ]
  },
  {
   "cell_type": "code",
   "execution_count": 20,
   "metadata": {},
   "outputs": [
    {
     "name": "stdout",
     "output_type": "stream",
     "text": [
      "<class 'datetime.datetime'>\n",
      "2024-02-06 20:37:59.902066\n",
      "2024\n",
      "2\n",
      "6\n",
      "20\n",
      "37\n",
      "59\n",
      "902066\n",
      "18\n"
     ]
    }
   ],
   "source": [
    "from datetime import datetime\n",
    "\n",
    "# lo bueno de datetime es que se puede hacer operaciones con fechas\n",
    "# por ejemplo, sumar o restar dias\n",
    "\n",
    "now = datetime.now()\n",
    "\n",
    "print(type(now))\n",
    "print(now)\n",
    "print(now.year)\n",
    "print(now.month)\n",
    "print(now.day)\n",
    "print(now.hour)\n",
    "print(now.minute)\n",
    "print(now.second)\n",
    "print(now.microsecond)\n",
    "\n",
    "cambio = (now.hour) - 2\n",
    "print(cambio)"
   ]
  },
  {
   "cell_type": "code",
   "execution_count": 23,
   "metadata": {},
   "outputs": [
    {
     "name": "stdout",
     "output_type": "stream",
     "text": [
      "c:\\Users\\suthe\\OneDrive\\Documentos\\GitHub\\Samsung_campus\\Clases\n"
     ]
    }
   ],
   "source": [
    "import os # para trabajar con el sistema operativo\n",
    "\n",
    "print(os.getcwd()) # para saber en que directorio estoy trabajando\n"
   ]
  },
  {
   "cell_type": "code",
   "execution_count": null,
   "metadata": {},
   "outputs": [],
   "source": [
    "'''\n",
    "Para llamar librerias de python, se debe de tener instalado el modulo en el sistema\n",
    "luego para hacer el llamado se debe de hacer de la siguiente manera:\n",
    "\n",
    "    import modulo\n",
    "\n",
    "    tambien se puede como\n",
    "\n",
    "    import modulo as nick\n",
    "\n",
    "para llamar un metodo exclusivo de un modulo se debe de hacer de la siguiente manera:\n",
    "\n",
    "    from modulo import metodo\n",
    "\n",
    "\n",
    "'''"
   ]
  }
 ],
 "metadata": {
  "kernelspec": {
   "display_name": "Python 3",
   "language": "python",
   "name": "python3"
  },
  "language_info": {
   "codemirror_mode": {
    "name": "ipython",
    "version": 3
   },
   "file_extension": ".py",
   "mimetype": "text/x-python",
   "name": "python",
   "nbconvert_exporter": "python",
   "pygments_lexer": "ipython3",
   "version": "3.9.7"
  }
 },
 "nbformat": 4,
 "nbformat_minor": 2
}
