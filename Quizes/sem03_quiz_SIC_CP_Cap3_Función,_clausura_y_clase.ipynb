{
  "cells": [
    {
      "cell_type": "markdown",
      "id": "5ad8356f",
      "metadata": {
        "id": "5ad8356f"
      },
      "source": [
        "# Coding and Programming\n",
        "\n",
        "## Capítulo 3\n",
        "\n",
        "### Función, clausura y clase\n",
        "\n",
        "- **Unidad 17.** Función\n",
        "- **Unidad 18.** Llamada a la función de recurrencia.\n",
        "- **Unidad 19.** Lambda\n",
        "- **Unidad 20.** Clausura\n",
        "- **Unidad 21.** Clase\n",
        "\n",
        "# Quiz 3"
      ]
    },
    {
      "cell_type": "markdown",
      "id": "a94ec368",
      "metadata": {
        "id": "a94ec368"
      },
      "source": [
        "___"
      ]
    },
    {
      "cell_type": "markdown",
      "id": "a11871f3",
      "metadata": {
        "id": "a11871f3"
      },
      "source": [
        "## Q 17-01\n",
        "\n",
        "Reciba las coordenadas `(x1, y1), (x2, y2)` de dos puntos del usuario e imprima la distancia entre los dos puntos de la siguiente manera. Para hacer esto, implemente la función `distancia(x1, y1, x2, y2)`.\n",
        "\n",
        "\n",
        "**Pauta de código:** consulte la fórmula para encontrar la distancia entre dos puntos.\n"
      ]
    },
    {
      "cell_type": "code",
      "execution_count": 10,
      "id": "f0a722e3",
      "metadata": {
        "colab": {
          "base_uri": "https://localhost:8080/"
        },
        "id": "f0a722e3",
        "outputId": "8c37b5b5-a9f9-4a86-f9f4-aea7d6dd1a71"
      },
      "outputs": [
        {
          "name": "stdout",
          "output_type": "stream",
          "text": [
            "Ingrese el punto 1\n",
            "  x: 1\n",
            "  y: 3\n",
            "\n",
            "Ingrese el punto 2\n",
            "  x: 5\n",
            "  y: 6\n",
            "\n",
            "\n",
            "La distancia entre (1, 3) y (5, 6) es: 5.0\n"
          ]
        }
      ],
      "source": [
        "from math import sqrt     # importacion de la funcion sqrt para raiz, seque se puede hacer ()**(1/2) pero me gusta mas visualmente\n",
        "\n",
        "\n",
        "# Funcion para sacar la distancia entre dos puntos\n",
        "def distancia(x1, y1, x2, y2):\n",
        "\n",
        "  a = (x2 - x1) ** 2\n",
        "  b = (y2 - y1) ** 2\n",
        "\n",
        "  d = sqrt(a + b)\n",
        "\n",
        "  return d    # se retorna la distancia\n",
        "\n",
        "\n",
        "print('Ingrese el punto 1')\n",
        "punto_1 = int(input('  x: ')), int(input('  y: '))      # Consulta al usuario por el primer punto\n",
        "\n",
        "print('\\nIngrese el punto 2')\n",
        "punto_2 = int(input('  x: ')), int(input('  y: '))      # Consulta al usuario por el segundo punto\n",
        "\n",
        "dist = distancia(punto_1[0],punto_1[1],punto_2[0],punto_2[1])   # Llamada a la funcion distancia\n",
        "\n",
        "print(f'\\n\\nLa distancia entre {punto_1} y {punto_2} es: {dist}')   # Imprime el resultado"
      ]
    },
    {
      "cell_type": "markdown",
      "id": "a207d974",
      "metadata": {
        "id": "a207d974"
      },
      "source": [
        "## Q 18-01\n",
        "\n",
        "Un palíndromo es una oración, palabra o cadena que es lo mismo que leer cualquier carácter de forma consecutiva.\n",
        "\n",
        "Por ejemplo, hay palabras como level, kayak, salas, somos, radar, reconocer.\n",
        "\n",
        "Usemos una llamada recursiva para determinar el palíndromo.\n",
        "\n",
        "Defina una función llamada `is_palindrome` y escriba un programa que reciba una cadena del usuario e imprima si el palindrome es correcto o no.\n",
        "\n",
        "**Pauta de código:** Llame a la función `is_palindrome` dentro de la función `is_palindrome`"
      ]
    },
    {
      "cell_type": "code",
      "execution_count": 22,
      "id": "zUtTDdl6JgYO",
      "metadata": {
        "colab": {
          "base_uri": "https://localhost:8080/"
        },
        "id": "zUtTDdl6JgYO",
        "outputId": "05a53b60-9272-460e-9856-c1692445bf41"
      },
      "outputs": [
        {
          "name": "stdout",
          "output_type": "stream",
          "text": [
            "Ingrese la palabra que desea revisar: ReconocEr\n",
            "\n",
            "La palabra reconocer es un palindromo\n"
          ]
        }
      ],
      "source": [
        "# No pude comprender como realizarlo con recursividad, asique lo he realizado reordenando la palabra simplemente\n",
        "\n",
        "\n",
        "from time import sleep\n",
        "\n",
        "# Funcion para determinar un palindromo\n",
        "def is_palindrome(palabra):\n",
        "  palabra = palabra.lower()     # Convierte todas las letras a minuscula para evitar falsos negativos\n",
        "  inversa = palabra[::-1]       # Palabra invertida\n",
        "\n",
        "  if palabra == inversa:        # Verificacion si la palabra = palabra invertida\n",
        "    print(f'\\nLa palabra {palabra} es un palindromo')\n",
        "  else:\n",
        "    print(f'\\nLa palabra {palabra}  NO es un palindromo')\n",
        "\n",
        "\n",
        "# Pregunta al usuario por una palabra\n",
        "palabra = input('Ingrese la palabra que desea revisar: ')\n",
        "is_palindrome(palabra)      # llamada a funcion"
      ]
    },
    {
      "cell_type": "markdown",
      "id": "fbfb4985",
      "metadata": {
        "id": "fbfb4985"
      },
      "source": [
        "## Q 19-01\n",
        "\n",
        "\n",
        "Después de poner una lista llamada `n_list` con valores de `[10, 20, 30]` en la función `map`.\n",
        "\n",
        "```\n",
        "n_list = [10,20,30]\n",
        "twice  = list(map(lambda x: x*2, n_list))\n",
        "triple = list(map(lambda x: x*3, n_list))\n",
        "```\n",
        "\n",
        "Indique el contenido de las variables `twice` y `triple`."
      ]
    },
    {
      "cell_type": "code",
      "execution_count": 28,
      "id": "f9UknU1HMhVU",
      "metadata": {
        "colab": {
          "base_uri": "https://localhost:8080/"
        },
        "id": "f9UknU1HMhVU",
        "outputId": "42c0f551-2917-466f-cc5e-2b289d8d87b4"
      },
      "outputs": [
        {
          "name": "stdout",
          "output_type": "stream",
          "text": [
            "Metodo lambda: [20, 40, 60], [30, 60, 90]\n",
            "Metodo funcion: [20, 40, 60], [30, 60, 90]\n"
          ]
        }
      ],
      "source": [
        "n_list = [10,20,30]\n",
        "twice  = list(map(lambda x: x*2, n_list))\n",
        "triple = list(map(lambda x: x*3, n_list))\n",
        "\n",
        "# lo que esta haciendo la funcion map es iterar para cada elemento de la lista realizar la funcion indicada por lambda\n",
        "# el analogo a esto seria hacer\n",
        "\n",
        "# listas vacias\n",
        "twice_2 = []\n",
        "triple_2 = []\n",
        "\n",
        "# Representacion de ' lambda x: x*2 '\n",
        "def x2 (x):\n",
        "  return x * 2\n",
        "\n",
        "# Representacion de ' lambda x: x*3 '\n",
        "def x3 (x):\n",
        "  return x * 3\n",
        "\n",
        "for n in n_list:  # Representacion de map\n",
        "  twice_2.append(x2(n))\n",
        "  triple_2.append(x3(n))\n",
        "\n",
        "print(f'Metodo lambda: {twice}, {triple}\\nMetodo funcion: {twice_2}, {triple_2}')\n",
        "\n"
      ]
    },
    {
      "cell_type": "markdown",
      "id": "98938d2d",
      "metadata": {
        "id": "98938d2d"
      },
      "source": [
        "## Q 20-01\n",
        "\n",
        "En el siguiente código, espere qué valor se incluye finalmente en `num_list`. Calcule el resultado esperado a mano.\n",
        "\n",
        "**Pauta de codificación:** Escriba 5 veces la declaración `for`. Espere este resultado y envíe el resultado.\n",
        "\n",
        "```\n",
        "def calc_digit(n):\n",
        "    def findal(digit):\n",
        "        return digit**n\n",
        "    return final\n",
        "\n",
        "num_list = []\n",
        "for num in range(1,6):\n",
        "    num_list.append( calc_digit(num) )\n",
        "    print( num_list[num-1](num) )\n",
        "```"
      ]
    },
    {
      "cell_type": "markdown",
      "id": "fcde558f",
      "metadata": {
        "id": "fcde558f"
      },
      "source": [
        "En teoria deberia dar error, en def calc_digit hay una funcion llamnada findal, pero se retorna final, omitiendo este error deberiamos tener que:\n",
        "\n",
        "La funcion findal nos da num^num, teniendo esto en cuenta\n",
        "\n",
        "Iteraciones:\n",
        "\n",
        "1. num = 1, num_list[1]\n",
        "2. num = 2, num_list[1 4]\n",
        "3. num = 3, num_list[1 4 27]\n",
        "4. num = 4, num_list[1 4 27 256]\n",
        "5. num = 5, num_list[1 4 27 256 3125]\n",
        "\n"
      ]
    },
    {
      "cell_type": "markdown",
      "id": "d3ece88b",
      "metadata": {
        "id": "d3ece88b"
      },
      "source": [
        "## Q 21-01\n",
        "\n",
        "Implemente las funciones de multiplicación (*) y división (/) de dos vectores usando los métodos `mul` y `truediv` aprendidos en la **unidad 21**. Suponiendo que `v1` es `(30, 40)` y `v2` es `(10, 20)`, codifique (escriba la declaración de salida) para devolver el siguiente resultado como resultado de la multiplicación y división de dos vectores.\n",
        "\n",
        "\n",
        "**Pauta de codificación:** escriba código que amplíe la funcionalidad de la clase `Vector2D` que aprendió en este capítulo."
      ]
    },
    {
      "cell_type": "code",
      "execution_count": 36,
      "id": "Vc1gSF1HSdmQ",
      "metadata": {
        "colab": {
          "base_uri": "https://localhost:8080/"
        },
        "id": "Vc1gSF1HSdmQ",
        "outputId": "deca2645-e372-4cc8-e3b9-f00f829e5cb2"
      },
      "outputs": [
        {
          "name": "stdout",
          "output_type": "stream",
          "text": [
            "La multiplicacion es:  200\n",
            "La division es:  [3. 2.]\n"
          ]
        }
      ],
      "source": [
        "from numpy import array, cross, divide\n",
        "\n",
        "\n",
        "class Vector2D:\n",
        "  def __init__(self, x, y):\n",
        "    self.x = x\n",
        "    self.y = y\n",
        "\n",
        "  def mul(self, vect2):                 # en este caso realice producto vectorial de vectores\n",
        "    vect1 = array([self.x, self.y])\n",
        "    vect2 = array([vect2.x, vect2.y])\n",
        "\n",
        "    return cross(vect1, vect2)\n",
        "\n",
        "  def truediv(self, vect2):             # en este caso se divide de manera individual los elementos\n",
        "                                        # al buscar en internet me aparecio que no hay una forma definida para hacerlo en matematicas\n",
        "    vect1 = array([self.x, self.y])\n",
        "    vect2 = array([vect2.x, vect2.y])\n",
        "\n",
        "    return divide(vect1, vect2)\n",
        "\n",
        "v1 = Vector2D(30, 40)\n",
        "v2 = Vector2D(10, 20)\n",
        "\n",
        "print('La multiplicacion es: ', v1.mul(v2))\n",
        "print('La division es: ', v1.truediv(v2))\n"
      ]
    },
    {
      "cell_type": "markdown",
      "id": "2717ce09",
      "metadata": {
        "id": "2717ce09"
      },
      "source": [
        "___"
      ]
    },
    {
      "cell_type": "markdown",
      "id": "10514335",
      "metadata": {
        "id": "10514335"
      },
      "source": [
        "# Fin"
      ]
    }
  ],
  "metadata": {
    "colab": {
      "provenance": []
    },
    "kernelspec": {
      "display_name": "Python 3 (ipykernel)",
      "language": "python",
      "name": "python3"
    },
    "language_info": {
      "codemirror_mode": {
        "name": "ipython",
        "version": 3
      },
      "file_extension": ".py",
      "mimetype": "text/x-python",
      "name": "python",
      "nbconvert_exporter": "python",
      "pygments_lexer": "ipython3",
      "version": "3.9.7"
    }
  },
  "nbformat": 4,
  "nbformat_minor": 5
}
