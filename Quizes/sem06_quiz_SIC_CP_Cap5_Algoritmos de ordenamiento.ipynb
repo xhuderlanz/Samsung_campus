{
 "cells": [
  {
   "cell_type": "markdown",
   "id": "5ad8356f",
   "metadata": {},
   "source": [
    "# Coding and Programming\n",
    "\n",
    "## Capítulo 5\n",
    "\n",
    "### Algoritmos de clasificación\n",
    "\n",
    "- **Unidad 27.** Ordenamiento de burbuja, (Bubble Sort) algoritmo de ordenamiento, selección e inserción\n",
    "- **Unidad 28.** Ordenar por selección, ordenamiento por inserción.\n",
    "- **Unidad 29.** Clasificación rápida\n"
   ]
  },
  {
   "cell_type": "markdown",
   "id": "2e42031a",
   "metadata": {},
   "source": [
    "___"
   ]
  },
  {
   "cell_type": "markdown",
   "id": "8c5aa9c8",
   "metadata": {},
   "source": [
    "## Q 27-01\n",
    "\n",
    "¿Cuántas comparaciones se ejecutaron en el siguiente proceso de ordenamiento de burbuja?\n",
    "```\n",
    "def bubbleSort(S):\n",
    "    n = len(S)\n",
    "    for i in range(n):\n",
    "        print(S)\n",
    "        for j in range(n-1):\n",
    "            if S[j] > S[j+1]:\n",
    "               S[j] , S[j+1] = S[j+1] , S[j]\n",
    "\n",
    "S = [50, 30, 40, 10, 20]\n",
    "bubbleSort(S)\n",
    "print(S)\n",
    "```\n",
    "#### Output\n",
    "```\n",
    "[50, 30, 40, 10, 20]\n",
    "[30, 40, 10, 20, 50]\n",
    "[30, 10, 20, 40, 50]\n",
    "[10, 20, 30, 40, 50]\n",
    "[10, 20, 30, 40, 50]\n",
    "[10, 20, 30, 40, 50]\n",
    "```"
   ]
  },
  {
   "cell_type": "code",
   "execution_count": 2,
   "id": "9feceb83",
   "metadata": {},
   "outputs": [
    {
     "name": "stdout",
     "output_type": "stream",
     "text": [
      "[50, 30, 40, 10, 20]\n",
      "[30, 40, 10, 20, 50]\n",
      "[30, 10, 20, 40, 50]\n",
      "[10, 20, 30, 40, 50]\n",
      "[10, 20, 30, 40, 50]\n",
      "[10, 20, 30, 40, 50] contador:  20\n"
     ]
    }
   ],
   "source": [
    "def bubbleSort(S):\n",
    "    n = len(S)\n",
    "    contador = 0\n",
    "    for i in range(n):\n",
    "        print(S)\n",
    "        for j in range(n-1):\n",
    "            contador += 1\n",
    "            if S[j] > S[j+1]:\n",
    "               S[j] , S[j+1] = S[j+1] , S[j]\n",
    "    return contador\n",
    "\n",
    "S = [50, 30, 40, 10, 20]\n",
    "contador = bubbleSort(S)\n",
    "print(S, \"contador: \", contador)"
   ]
  },
  {
   "cell_type": "markdown",
   "id": "ac65e987",
   "metadata": {},
   "source": [
    "Se realizan 20 comparaciones"
   ]
  },
  {
   "cell_type": "markdown",
   "id": "07be4f9d",
   "metadata": {},
   "source": [
    "___"
   ]
  },
  {
   "cell_type": "markdown",
   "id": "a11871f3",
   "metadata": {},
   "source": [
    "## Q 27-02\n",
    "\n",
    "¿Cuántas comparaciones se ejecutaron en el siguiente proceso de ordenamiento de inserción?\n",
    "```\n",
    "def insertionSort2(S):\n",
    "    n = len(S)\n",
    "    for i in range(1,n):\n",
    "        print(S)\n",
    "        x = S[i]\n",
    "        j = i - 1\n",
    "        while j >= 0 and S[j] > x:\n",
    "            S[j+1] = S[j]\n",
    "            j -= 1\n",
    "        S[j + 1] = x\n",
    "\n",
    "S = [50, 30, 40, 10, 20]\n",
    "insertionSort2(S)\n",
    "print(S)\n",
    "```\n",
    "#### Output\n",
    "```\n",
    "[50, 30, 40, 10, 20]\n",
    "[30, 40, 10, 20, 50]\n",
    "[30, 10, 20, 40, 50]\n",
    "[10, 20, 30, 40, 50]\n",
    "[10, 20, 30, 40, 50]\n",
    "[10, 20, 30, 40, 50]\n",
    "```"
   ]
  },
  {
   "cell_type": "code",
   "execution_count": 4,
   "id": "30a1c729",
   "metadata": {},
   "outputs": [
    {
     "name": "stdout",
     "output_type": "stream",
     "text": [
      "[50, 30, 40, 10, 20]\n",
      "[30, 50, 40, 10, 20]\n",
      "[30, 40, 50, 10, 20]\n",
      "[10, 30, 40, 50, 20]\n",
      "[10, 20, 30, 40, 50] contador:  8\n"
     ]
    }
   ],
   "source": [
    "def insertionSort2(S):\n",
    "    n = len(S)\n",
    "    contador = 0\n",
    "    for i in range(1,n):\n",
    "        print(S)\n",
    "        x = S[i]\n",
    "        j = i - 1\n",
    "        \n",
    "        while j >= 0 and S[j] > x:\n",
    "            contador += 1\n",
    "            S[j+1] = S[j]\n",
    "            j -= 1\n",
    "        S[j + 1] = x\n",
    "    return contador\n",
    "\n",
    "S = [50, 30, 40, 10, 20]\n",
    "contador = insertionSort2(S)\n",
    "print(S, \"contador: \", contador)"
   ]
  },
  {
   "cell_type": "markdown",
   "id": "05c7586b",
   "metadata": {},
   "source": [
    "___"
   ]
  },
  {
   "cell_type": "markdown",
   "id": "a207d974",
   "metadata": {},
   "source": [
    "## Q 28-01\n",
    "\n",
    "¿Cuántas veces se ejecuta la función `merge2()` en el siguiente proceso de ordenamiento por fusión?\n",
    "```\n",
    "S = [6,2,11,7,5,4,8,16,10,3]\n",
    "mergeSort2(S, 0, len(S)-1)\n",
    "print(S)\n",
    "```"
   ]
  },
  {
   "cell_type": "markdown",
   "id": "f0d1a419",
   "metadata": {},
   "source": [
    "___"
   ]
  },
  {
   "cell_type": "code",
   "execution_count": 2,
   "id": "4964f7e3",
   "metadata": {},
   "outputs": [
    {
     "name": "stdout",
     "output_type": "stream",
     "text": [
      "[2, 3, 4, 5, 6, 7, 8, 10, 11, 16]\n",
      "La función merge2 se ejecutó 9 veces.\n"
     ]
    }
   ],
   "source": [
    "def mergeSort2(S, low, high, contador):\n",
    "    if low < high:\n",
    "        mid = (low + high) // 2\n",
    "        mergeSort2(S, low, mid, contador)\n",
    "        mergeSort2(S, mid + 1, high, contador)\n",
    "        merge2(S, low, mid, high)\n",
    "        contador[0] += 1  # Incrementa el contador cada vez que se llama a merge2\n",
    "\n",
    "def merge2(S, low, mid, high):\n",
    "    R = []\n",
    "    i, j = low, mid + 1\n",
    "    while i <= mid and j <= high:\n",
    "        if S[i] < S[j]:\n",
    "            R.append(S[i])\n",
    "            i += 1\n",
    "        else:\n",
    "            R.append(S[j])\n",
    "            j += 1\n",
    "    if i > mid:\n",
    "        for k in range(j, high + 1):\n",
    "            R.append(S[k])\n",
    "    else:\n",
    "        for k in range(i, mid + 1):\n",
    "            R.append(S[k])\n",
    "    for k in range(len(R)):\n",
    "        S[low + k] = R[k]\n",
    "\n",
    "contador = [0]  # Inicializa el contador como una lista para permitir la mutabilidad\n",
    "\n",
    "S = [6,2,11,7,5,4,8,16,10,3]\n",
    "mergeSort2(S, 0, len(S)-1, contador)\n",
    "print(S)\n",
    "print(f\"La función merge2 se ejecutó {contador[0]} veces.\")\n"
   ]
  },
  {
   "cell_type": "markdown",
   "id": "80a65677",
   "metadata": {},
   "source": [
    "\n",
    "La función merge2 se ejecutó 9 veces."
   ]
  },
  {
   "cell_type": "markdown",
   "id": "26a6bb9e",
   "metadata": {},
   "source": [
    "## Q 29-01\n",
    "\n",
    "Dada la lista a continuación, escriba la salida después de ejecutar la función `partition1()`\n",
    "```\n",
    "S = [15,10,12,20,25,13,22]\n",
    "partition1(S, 0, len(S)-1)\n",
    "print(S)\n",
    "```\n",
    "#### Output\n",
    "```\n",
    "[15,10,12,20,25,13,22] 0 6 pivot = 15\n",
    "...\n",
    "```\n"
   ]
  },
  {
   "cell_type": "code",
   "execution_count": 10,
   "id": "6ed30ff1",
   "metadata": {},
   "outputs": [
    {
     "name": "stdout",
     "output_type": "stream",
     "text": [
      "[15, 10, 12, 13, 25, 20, 22] 3 5 pivot = 15\n",
      "[13, 10, 12, 15, 25, 20, 22] 4 3 pivotpoint = 3\n",
      "[13, 10, 12, 15, 25, 20, 22] pivot = 3\n"
     ]
    }
   ],
   "source": [
    "def partition1(S, low, high):                       # La funcion se encarga de dividir el arreglo en dos partes\n",
    "                                                    # y regresa la posicion del pivote\n",
    "    pivot = S[low]\n",
    "    left, right = low + 1, high\n",
    "    \n",
    "    while left <= right:                                # Mientras la posicion de la izquierda sea menor o igual a la derecha\n",
    "                                                        # revisa si el valor en la posicion izquierda es menor o igual al pivote\n",
    "        while left <= right and S[left] <= pivot:\n",
    "            left += 1\n",
    "        while left <= right and S[right] >= pivot:\n",
    "            right -= 1\n",
    "        if left < right:\n",
    "            S[left], S[right] = S[right], S[left]\n",
    "            print(S, left, right, \"pivot =\", pivot)\n",
    "    pivotpoint = right\n",
    "    S[low], S[pivotpoint] = S[pivotpoint], S[low]\n",
    "    print(S, left, right, \"pivotpoint =\", pivotpoint)\n",
    "    return pivotpoint\n",
    "\n",
    "S = [15,10,12,20,25,13,22]\n",
    "pivot = partition1(S, 0, len(S)-1)\n",
    "print(S, \"pivot =\", pivot)\n"
   ]
  },
  {
   "cell_type": "markdown",
   "id": "0e551233",
   "metadata": {},
   "source": [
    "[15, 10, 12, 13, 25, 20, 22] 3 5 pivot = 15\n",
    "\n",
    "[13, 10, 12, 15, 25, 20, 22] 4 3 pivotpoint = 3\n",
    "\n",
    "[13, 10, 12, 15, 25, 20, 22] pivot = 3"
   ]
  },
  {
   "cell_type": "markdown",
   "id": "5c53b843",
   "metadata": {},
   "source": [
    "___"
   ]
  },
  {
   "cell_type": "markdown",
   "id": "896ee09a",
   "metadata": {},
   "source": [
    "# Fin"
   ]
  }
 ],
 "metadata": {
  "kernelspec": {
   "display_name": "Python 3 (ipykernel)",
   "language": "python",
   "name": "python3"
  },
  "language_info": {
   "codemirror_mode": {
    "name": "ipython",
    "version": 3
   },
   "file_extension": ".py",
   "mimetype": "text/x-python",
   "name": "python",
   "nbconvert_exporter": "python",
   "pygments_lexer": "ipython3",
   "version": "3.9.7"
  }
 },
 "nbformat": 4,
 "nbformat_minor": 5
}
